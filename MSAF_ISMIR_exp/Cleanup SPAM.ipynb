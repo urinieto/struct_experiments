{
 "cells": [
  {
   "cell_type": "code",
   "execution_count": 4,
   "metadata": {
    "collapsed": false
   },
   "outputs": [],
   "source": [
    "import glob\n",
    "import os\n",
    "import json\n",
    "import shutil\n",
    "\n",
    "import msaf\n",
    "\n",
    "annotator_names = [\"Colin\", \"Eleni\", \"Evan\", \"John\", \"Shuli\"]\n",
    "spam_path = \"/Users/uri/datasets/SPAM/\"\n",
    "spam_path = \"/home/uri/datasets/SPAM/\"\n",
    "out_path = os.path.join(spam_path, \"new_references\")"
   ]
  },
  {
   "cell_type": "code",
   "execution_count": 9,
   "metadata": {
    "collapsed": false
   },
   "outputs": [],
   "source": [
    "# Read files\n",
    "references = glob.glob(os.path.join(spam_path, \n",
    "                                    msaf.Dataset.references_dir,\n",
    "                                    \"*\" + msaf.Dataset.references_ext))\n",
    "audio_files = glob.glob(os.path.join(spam_path, \n",
    "                                     msaf.Dataset.audio_dir,\n",
    "                                     \"*.mp3\"))\n",
    "feat_files = glob.glob(os.path.join(spam_path, \n",
    "                                     msaf.Dataset.features_dir,\n",
    "                                     \"*\" + msaf.Dataset.features_ext))"
   ]
  },
  {
   "cell_type": "code",
   "execution_count": 16,
   "metadata": {
    "collapsed": false
   },
   "outputs": [
    {
     "name": "stdout",
     "output_type": "stream",
     "text": [
      "GT\n",
      "GT\n",
      "Colin\n",
      "Eleni\n",
      "Evan\n",
      "John\n",
      "Shuli\n",
      "Weighted\n",
      "Threshold\n"
     ]
    }
   ],
   "source": [
    "ref = msaf.jams2.load(references[0])\n",
    "for annotations in ref[\"sections\"]:\n",
    "    print annotations[\"annotation_metadata\"][\"annotator\"][\"name\"]"
   ]
  },
  {
   "cell_type": "code",
   "execution_count": 39,
   "metadata": {
    "collapsed": false
   },
   "outputs": [],
   "source": [
    "# Get only references by the names above\n",
    "for ref_file in references:\n",
    "    names = []\n",
    "    ref = msaf.jams2.load(ref_file)\n",
    "    new_jams = msaf.jams2.Jams()\n",
    "    for annotation in ref[\"sections\"]:\n",
    "        if annotation[\"annotation_metadata\"][\"annotator\"][\"name\"] in annotator_names:\n",
    "            new_jams[\"sections\"].append(annotation)\n",
    "    out_file = os.path.join(out_path, os.path.basename(ref_file))\n",
    "    with open(out_file, \"w\") as f:\n",
    "        json.dump(new_jams, f, indent=2)"
   ]
  },
  {
   "cell_type": "code",
   "execution_count": 10,
   "metadata": {
    "collapsed": false
   },
   "outputs": [],
   "source": [
    "# Add SPAM prefix\n",
    "def add_prefix(files, prefix):\n",
    "    for f in files:\n",
    "        dest = os.path.join(os.path.dirname(f), prefix + os.path.basename(f))\n",
    "        shutil.move(f, dest)\n",
    "\n",
    "prefix = \"SPAM_\"\n",
    "# add_prefix(references, prefix)\n",
    "add_prefix(audio_files, prefix)\n",
    "add_prefix(feat_files, prefix)"
   ]
  }
 ],
 "metadata": {
  "kernelspec": {
   "display_name": "Python 2",
   "language": "python",
   "name": "python2"
  },
  "language_info": {
   "codemirror_mode": {
    "name": "ipython",
    "version": 2
   },
   "file_extension": ".py",
   "mimetype": "text/x-python",
   "name": "python",
   "nbconvert_exporter": "python",
   "pygments_lexer": "ipython2",
   "version": "2.7.6"
  }
 },
 "nbformat": 4,
 "nbformat_minor": 0
}
