{
 "cells": [
  {
   "cell_type": "code",
   "execution_count": 37,
   "metadata": {
    "collapsed": false
   },
   "outputs": [],
   "source": [
    "import glob\n",
    "import os\n",
    "import json\n",
    "\n",
    "import msaf\n",
    "\n",
    "annotator_names = [\"Colin\", \"Eleni\", \"Evan\", \"John\", \"Shuli\"]\n",
    "spam_path = \"/Users/uri/datasets/SPAM/\"\n",
    "out_path = os.path.join(spam_path, \"new_references\")"
   ]
  },
  {
   "cell_type": "code",
   "execution_count": 38,
   "metadata": {
    "collapsed": false
   },
   "outputs": [],
   "source": [
    "# Read reference files\n",
    "references = glob.glob(os.path.join(spam_path, \n",
    "                                    msaf.Dataset.references_dir,\n",
    "                                    \"*\" + msaf.Dataset.references_ext))"
   ]
  },
  {
   "cell_type": "code",
   "execution_count": 16,
   "metadata": {
    "collapsed": false
   },
   "outputs": [
    {
     "name": "stdout",
     "output_type": "stream",
     "text": [
      "GT\n",
      "GT\n",
      "Colin\n",
      "Eleni\n",
      "Evan\n",
      "John\n",
      "Shuli\n",
      "Weighted\n",
      "Threshold\n"
     ]
    }
   ],
   "source": [
    "ref = msaf.jams2.load(references[0])\n",
    "for annotations in ref[\"sections\"]:\n",
    "    print annotations[\"annotation_metadata\"][\"annotator\"][\"name\"]"
   ]
  },
  {
   "cell_type": "code",
   "execution_count": 39,
   "metadata": {
    "collapsed": false
   },
   "outputs": [],
   "source": [
    "# Get only references by the names above\n",
    "for ref_file in references:\n",
    "    names = []\n",
    "    ref = msaf.jams2.load(ref_file)\n",
    "    new_jams = msaf.jams2.Jams()\n",
    "    for annotation in ref[\"sections\"]:\n",
    "        if annotation[\"annotation_metadata\"][\"annotator\"][\"name\"] in annotator_names:\n",
    "            new_jams[\"sections\"].append(annotation)\n",
    "    out_file = os.path.join(out_path, os.path.basename(ref_file))\n",
    "    with open(out_file, \"w\") as f:\n",
    "        json.dump(new_jams, f, indent=2)"
   ]
  }
 ],
 "metadata": {
  "kernelspec": {
   "display_name": "Python 2",
   "language": "python",
   "name": "python2"
  },
  "language_info": {
   "codemirror_mode": {
    "name": "ipython",
    "version": 2
   },
   "file_extension": ".py",
   "mimetype": "text/x-python",
   "name": "python",
   "nbconvert_exporter": "python",
   "pygments_lexer": "ipython2",
   "version": "2.7.6"
  }
 },
 "nbformat": 4,
 "nbformat_minor": 0
}
