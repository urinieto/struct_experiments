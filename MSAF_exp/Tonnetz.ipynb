{
 "metadata": {
  "name": "",
  "signature": "sha256:3498c27f88360fe0025d4ad22e5654e6755714b0891542fd5fdd8cd14ff6c861"
 },
 "nbformat": 3,
 "nbformat_minor": 0,
 "worksheets": [
  {
   "cells": [
    {
     "cell_type": "code",
     "collapsed": false,
     "input": [
      "#### Adds Tonnetz to the Features ####\n",
      "import glob\n",
      "import json\n",
      "\n",
      "import sys\n",
      "sys.path.append(\"..\")\n",
      "import utils as U\n",
      "\n",
      "feat_files = glob.glob(\"/Users/uri/datasets/Segments/features/*.json\")\n",
      "for feat_file in feat_files:\n",
      "    with open(feat_file, \"r\") as f:\n",
      "        feats = json.load(f)\n",
      "    hpcp = np.asarray(feats[\"est_beatsync\"][\"hpcp\"])\n",
      "    tonnetz = U.chroma_to_tonnetz(hpcp).tolist()\n",
      "    feats[\"est_beatsync\"][\"tonnetz\"] = tonnetz\n",
      "    with open(feat_file, \"w\") as f:\n",
      "        json.dump(feats, f)"
     ],
     "language": "python",
     "metadata": {},
     "outputs": [],
     "prompt_number": 20
    }
   ],
   "metadata": {}
  }
 ]
}