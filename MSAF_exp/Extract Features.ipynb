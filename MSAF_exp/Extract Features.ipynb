{
 "metadata": {
  "name": ""
 },
 "nbformat": 3,
 "nbformat_minor": 0,
 "worksheets": [
  {
   "cells": [
    {
     "cell_type": "code",
     "collapsed": false,
     "input": [
      "import essentia\n",
      "import essentia.standard as ES"
     ],
     "language": "python",
     "metadata": {},
     "outputs": [],
     "prompt_number": 9
    },
    {
     "cell_type": "code",
     "collapsed": false,
     "input": [
      "# Parameters\n",
      "sample_rate = 11025\n",
      "window_type = \"blackmanharris74\"\n",
      "frame_size = 2048\n",
      "hop_size = 512"
     ],
     "language": "python",
     "metadata": {},
     "outputs": [],
     "prompt_number": 24
    },
    {
     "cell_type": "code",
     "collapsed": false,
     "input": [
      "# Instantiate Essentia Objects \n",
      "loader = ES.MonoLoader(filename=\"test_audio/goodtimes.mp3\", sampleRate=sample_rate);\n",
      "w = ES.Windowing(type = window_type)\n",
      "spectrum = ES.Spectrum()\n",
      "mfcc = ES.MFCC()\n",
      "hpcp = ES.HPCP()"
     ],
     "language": "python",
     "metadata": {},
     "outputs": [],
     "prompt_number": 25
    },
    {
     "cell_type": "code",
     "collapsed": false,
     "input": [
      "# Load Audio\n",
      "audio = loader()\n",
      "\n",
      "# Compute MFCCs\n",
      "mfccs = []\n",
      "for frame in ES.FrameGenerator(audio, frameSize = frame_size, hopSize = hop_size):\n",
      "    mfcc_bands, mfcc_coeffs = mfcc(spectrum(w(frame)))\n",
      "    mfccs.append(mfcc_coeffs)\n",
      "\n",
      "# we need to convert the list to an essentia.array first (== numpy.array of floats)\n",
      "mfccs = essentia.array(mfccs)\n",
      "\n",
      "# and plot\n",
      "imshow(mfccs[1:,:].T, aspect=\"auto\", interpolation=\"nearest\")"
     ],
     "language": "python",
     "metadata": {},
     "outputs": [
      {
       "metadata": {},
       "output_type": "pyout",
       "prompt_number": 26,
       "text": [
        "<matplotlib.image.AxesImage at 0x104730110>"
       ]
      }
     ],
     "prompt_number": 26
    },
    {
     "cell_type": "code",
     "collapsed": false,
     "input": [
      "mfccs.shape"
     ],
     "language": "python",
     "metadata": {},
     "outputs": [
      {
       "metadata": {},
       "output_type": "pyout",
       "prompt_number": 27,
       "text": [
        "(3620, 13)"
       ]
      }
     ],
     "prompt_number": 27
    },
    {
     "cell_type": "code",
     "collapsed": false,
     "input": [
      "mfcc.name()"
     ],
     "language": "python",
     "metadata": {},
     "outputs": [
      {
       "metadata": {},
       "output_type": "pyout",
       "prompt_number": 35,
       "text": [
        "'MFCC'"
       ]
      }
     ],
     "prompt_number": 35
    },
    {
     "cell_type": "code",
     "collapsed": false,
     "input": [],
     "language": "python",
     "metadata": {},
     "outputs": []
    }
   ],
   "metadata": {}
  }
 ]
}