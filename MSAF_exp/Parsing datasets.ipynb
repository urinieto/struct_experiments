{
 "metadata": {
  "name": "",
  "signature": "sha256:7e1f9c62c619995b2419d6cef633b54fc1c34f0264c2d2ff5272a91782142a36"
 },
 "nbformat": 3,
 "nbformat_minor": 0,
 "worksheets": [
  {
   "cells": [
    {
     "cell_type": "heading",
     "level": 1,
     "metadata": {},
     "source": [
      "SALAMI"
     ]
    },
    {
     "cell_type": "code",
     "collapsed": false,
     "input": [
      "import glob\n",
      "import os\n",
      "import jams\n",
      "import json\n",
      "\n",
      "SALAMI_path = \"/Users/uri/datasets/SALAMI/data/\"\n",
      "track_paths = glob.glob(os.path.join(SALAMI_path, \"*\"))\n",
      "\n",
      "for track_path in track_paths:\n",
      "    if not os.path.isdir(os.path.join(track_path, \"parsed\")):\n",
      "        print \"merda\", os.path.basename(track_path)\n",
      "        break\n",
      "    \n",
      "    # Create JAM\n",
      "    jam = jams.Jams()\n",
      "    \n",
      "    # Create Metadata\n",
      "    jam.metadata.artist = \"Sargon\"\n",
      "    jam.metadata.\n",
      "    \n",
      "    # Create Annotation\n",
      "    annot = jam.sections.create_annotation()\n",
      "    annot.annotation_metadata.origin = \"SALAMI v1.2\"\n",
      "    annot.annotation_metadata.annotator = \"SALAMI_1\"\n",
      "    annot.annotation_metadata.\n",
      "    section = annot.create_datapoint()\n",
      "    section.level = \"function\"\n",
      "    section.start.value = 0.0\n",
      "    section.start.confidence = 1.0\n",
      "    section.end.value = 0.464399092\n",
      "    section.end.confidence = 1.0\n",
      "    section.label.value = \"Silence\"\n",
      "    section.label.confidence = 1.0\n",
      "    fh = open(\"sections.jams\", \"w\")\n",
      "    json.dump(jam, fh, indent=2)\n",
      "    fh.close()\n",
      "    print os.path.basename(track_path)\n",
      "    break"
     ],
     "language": "python",
     "metadata": {},
     "outputs": [
      {
       "output_type": "stream",
       "stream": "stdout",
       "text": [
        "10\n"
       ]
      }
     ],
     "prompt_number": 11
    },
    {
     "cell_type": "code",
     "collapsed": false,
     "input": [
      "import json\n",
      "f = open(\"/Users/uri/datasets/Segments/originalDatasets/Cerulean/charlie/gt/Yellowjackets-Motet.json\", \"r\")\n",
      "gt = json.load(f)\n",
      "gt"
     ],
     "language": "python",
     "metadata": {},
     "outputs": [
      {
       "metadata": {},
       "output_type": "pyout",
       "prompt_number": 15,
       "text": [
        "u'TRZNBDZ1379DEFC068'"
       ]
      }
     ],
     "prompt_number": 15
    },
    {
     "cell_type": "code",
     "collapsed": false,
     "input": [
      "len(gt[\"sections\"])"
     ],
     "language": "python",
     "metadata": {},
     "outputs": [
      {
       "metadata": {},
       "output_type": "pyout",
       "prompt_number": 21,
       "text": [
        "16"
       ]
      }
     ],
     "prompt_number": 21
    },
    {
     "cell_type": "code",
     "collapsed": false,
     "input": [
      "gt[\"sections\"]"
     ],
     "language": "python",
     "metadata": {},
     "outputs": [
      {
       "metadata": {},
       "output_type": "pyout",
       "prompt_number": 22,
       "text": [
        "[{u'label': u'a', u'opt': u'intro', u'start': 0.0},\n",
        " {u'label': u'b', u'opt': u'', u'start': 11.2},\n",
        " {u'label': u'c', u'opt': u'chorus', u'start': 22.5},\n",
        " {u'label': u'b', u'opt': u'', u'start': 44.3},\n",
        " {u'label': u'c', u'opt': u'chorus', u'start': 54.8},\n",
        " {u'label': u'd', u'opt': u'bridge', u'start': 75.2},\n",
        " {u'label': u'b', u'opt': u'piano solo', u'start': 98.2},\n",
        " {u'label': u'e', u'opt': u'saxophone solo', u'start': 120.4},\n",
        " {u'label': u'f', u'opt': u'bass solo', u'start': 253.3},\n",
        " {u'label': u'g', u'opt': u'', u'start': 375.5},\n",
        " {u'label': u'c', u'opt': u'chorus', u'start': 398.4},\n",
        " {u'label': u'd', u'opt': u'bridge', u'start': 418.9},\n",
        " {u'label': u'h', u'opt': u'piano solo 2', u'start': 441.1},\n",
        " {u'label': u'd', u'opt': u'bridge', u'start': 504.0},\n",
        " {u'label': u'i', u'opt': u'sax solo 2', u'start': 525.6},\n",
        " {u'label': u'j', u'opt': u'outro and applause', u'start': 546.1}]"
       ]
      }
     ],
     "prompt_number": 22
    },
    {
     "cell_type": "code",
     "collapsed": false,
     "input": [
      "import shutil\n",
      "shutil.copy(\"\")"
     ],
     "language": "python",
     "metadata": {},
     "outputs": [
      {
       "ename": "TypeError",
       "evalue": "copy() takes exactly 2 arguments (1 given)",
       "output_type": "pyerr",
       "traceback": [
        "\u001b[0;31m---------------------------------------------------------------------------\u001b[0m\n\u001b[0;31mTypeError\u001b[0m                                 Traceback (most recent call last)",
        "\u001b[0;32m<ipython-input-25-915e6e84a4c0>\u001b[0m in \u001b[0;36m<module>\u001b[0;34m()\u001b[0m\n\u001b[1;32m      1\u001b[0m \u001b[0;32mimport\u001b[0m \u001b[0mshutil\u001b[0m\u001b[0;34m\u001b[0m\u001b[0m\n\u001b[0;32m----> 2\u001b[0;31m \u001b[0mshutil\u001b[0m\u001b[0;34m.\u001b[0m\u001b[0mcopy\u001b[0m\u001b[0;34m(\u001b[0m\u001b[0;34m\"\"\u001b[0m\u001b[0;34m)\u001b[0m\u001b[0;34m\u001b[0m\u001b[0m\n\u001b[0m",
        "\u001b[0;31mTypeError\u001b[0m: copy() takes exactly 2 arguments (1 given)"
       ]
      }
     ],
     "prompt_number": 25
    },
    {
     "cell_type": "code",
     "collapsed": false,
     "input": [
      "# These lines import specific things from Remix! \n",
      "#from echonest.remix.audio import LocalAudioFile\n",
      "\n",
      "from pyechonest import track\n",
      "\n",
      "# Set Uri's Echo Nest API Key\n",
      "from pyechonest import config\n",
      "config.ECHO_NEST_API_KEY=\"RRIGOW0BG5NJTM5M4\"\n",
      "\n",
      "#track = LocalAudioFile(\"/Users/uri/datasets/Segments/audio/Cerulean_50_Cent-Window_Shopper.mp3\", verbose=True)\n",
      "pytrack = track.track_from_filename(\"/Users/uri/datasets/Segments/audio/Epiphyte_0001_12step.wav\")"
     ],
     "language": "python",
     "metadata": {},
     "outputs": [],
     "prompt_number": 57
    },
    {
     "cell_type": "code",
     "collapsed": false,
     "input": [
      "pytrack."
     ],
     "language": "python",
     "metadata": {},
     "outputs": [
      {
       "metadata": {},
       "output_type": "pyout",
       "prompt_number": 59,
       "text": [
        "u'1e12a0952710bd81bf63be1d2ed17395'"
       ]
      }
     ],
     "prompt_number": 59
    },
    {
     "cell_type": "code",
     "collapsed": false,
     "input": [
      "import jams\n",
      "jam = jams.load(\"/Users/uri/datasets/Segments/annotations/Cerulean_50_Cent-Window_Shopper.jams\")"
     ],
     "language": "python",
     "metadata": {},
     "outputs": [
      {
       "ename": "TypeError",
       "evalue": "__init__() got an unexpected keyword argument 'level'",
       "output_type": "pyerr",
       "traceback": [
        "\u001b[0;31m---------------------------------------------------------------------------\u001b[0m\n\u001b[0;31mTypeError\u001b[0m                                 Traceback (most recent call last)",
        "\u001b[0;32m<ipython-input-1-f711779c379f>\u001b[0m in \u001b[0;36m<module>\u001b[0;34m()\u001b[0m\n\u001b[1;32m      1\u001b[0m \u001b[0;32mimport\u001b[0m \u001b[0mjams\u001b[0m\u001b[0;34m\u001b[0m\u001b[0m\n\u001b[0;32m----> 2\u001b[0;31m \u001b[0mjam\u001b[0m \u001b[0;34m=\u001b[0m \u001b[0mjams\u001b[0m\u001b[0;34m.\u001b[0m\u001b[0mload\u001b[0m\u001b[0;34m(\u001b[0m\u001b[0;34m\"/Users/uri/datasets/Segments/annotations/Cerulean_50_Cent-Window_Shopper.jams\"\u001b[0m\u001b[0;34m)\u001b[0m\u001b[0;34m\u001b[0m\u001b[0m\n\u001b[0m",
        "\u001b[0;32m/Users/uri/NYU/Dissertation/jams/fileio.pyc\u001b[0m in \u001b[0;36mload\u001b[0;34m(filepath)\u001b[0m\n\u001b[1;32m     11\u001b[0m     \u001b[0;34m\"\"\"Load a JSON formatted stream from a file.\"\"\"\u001b[0m\u001b[0;34m\u001b[0m\u001b[0m\n\u001b[1;32m     12\u001b[0m     \u001b[0mfpointer\u001b[0m \u001b[0;34m=\u001b[0m \u001b[0mopen\u001b[0m\u001b[0;34m(\u001b[0m\u001b[0mfilepath\u001b[0m\u001b[0;34m,\u001b[0m \u001b[0;34m'r'\u001b[0m\u001b[0;34m)\u001b[0m\u001b[0;34m\u001b[0m\u001b[0m\n\u001b[0;32m---> 13\u001b[0;31m     \u001b[0;32mreturn\u001b[0m \u001b[0mJams\u001b[0m\u001b[0;34m(\u001b[0m\u001b[0;34m**\u001b[0m\u001b[0mjson\u001b[0m\u001b[0;34m.\u001b[0m\u001b[0mload\u001b[0m\u001b[0;34m(\u001b[0m\u001b[0mfpointer\u001b[0m\u001b[0;34m)\u001b[0m\u001b[0;34m)\u001b[0m\u001b[0;34m\u001b[0m\u001b[0m\n\u001b[0m\u001b[1;32m     14\u001b[0m \u001b[0;34m\u001b[0m\u001b[0m\n\u001b[1;32m     15\u001b[0m \u001b[0;34m\u001b[0m\u001b[0m\n",
        "\u001b[0;32m/Users/uri/NYU/Dissertation/jams/pyjams.py\u001b[0m in \u001b[0;36m__init__\u001b[0;34m(self, beats, chords, melody, sections, tags, metadata)\u001b[0m\n\u001b[1;32m    594\u001b[0m         \u001b[0mself\u001b[0m\u001b[0;34m.\u001b[0m\u001b[0mchords\u001b[0m \u001b[0;34m=\u001b[0m \u001b[0mAnnotationSet\u001b[0m\u001b[0;34m(\u001b[0m\u001b[0mchords\u001b[0m\u001b[0;34m,\u001b[0m \u001b[0mRangeAnnotation\u001b[0m\u001b[0;34m)\u001b[0m\u001b[0;34m\u001b[0m\u001b[0m\n\u001b[1;32m    595\u001b[0m         \u001b[0mself\u001b[0m\u001b[0;34m.\u001b[0m\u001b[0mmelody\u001b[0m \u001b[0;34m=\u001b[0m \u001b[0mAnnotationSet\u001b[0m\u001b[0;34m(\u001b[0m\u001b[0mmelody\u001b[0m\u001b[0;34m,\u001b[0m \u001b[0mTimeSeriesAnnotation\u001b[0m\u001b[0;34m)\u001b[0m\u001b[0;34m\u001b[0m\u001b[0m\n\u001b[0;32m--> 596\u001b[0;31m         \u001b[0mself\u001b[0m\u001b[0;34m.\u001b[0m\u001b[0msections\u001b[0m \u001b[0;34m=\u001b[0m \u001b[0mAnnotationSet\u001b[0m\u001b[0;34m(\u001b[0m\u001b[0msections\u001b[0m\u001b[0;34m,\u001b[0m \u001b[0mRangeAnnotation\u001b[0m\u001b[0;34m)\u001b[0m\u001b[0;34m\u001b[0m\u001b[0m\n\u001b[0m\u001b[1;32m    597\u001b[0m         \u001b[0mself\u001b[0m\u001b[0;34m.\u001b[0m\u001b[0mtags\u001b[0m \u001b[0;34m=\u001b[0m \u001b[0mAnnotationSet\u001b[0m\u001b[0;34m(\u001b[0m\u001b[0mtags\u001b[0m\u001b[0;34m,\u001b[0m \u001b[0mAnnotation\u001b[0m\u001b[0;34m)\u001b[0m\u001b[0;34m\u001b[0m\u001b[0m\n\u001b[1;32m    598\u001b[0m         \u001b[0mself\u001b[0m\u001b[0;34m.\u001b[0m\u001b[0mmetadata\u001b[0m \u001b[0;34m=\u001b[0m \u001b[0mMetadata\u001b[0m\u001b[0;34m(\u001b[0m\u001b[0;34m**\u001b[0m\u001b[0mmetadata\u001b[0m\u001b[0;34m)\u001b[0m\u001b[0;34m\u001b[0m\u001b[0m\n",
        "\u001b[0;32m/Users/uri/NYU/Dissertation/jams/pyjams.py\u001b[0m in \u001b[0;36m__init__\u001b[0;34m(self, annotations, DefaultType)\u001b[0m\n\u001b[1;32m    435\u001b[0m         \"\"\"\n\u001b[1;32m    436\u001b[0m         \u001b[0mself\u001b[0m\u001b[0;34m.\u001b[0m\u001b[0m_DefaultType\u001b[0m \u001b[0;34m=\u001b[0m \u001b[0mDefaultType\u001b[0m\u001b[0;34m\u001b[0m\u001b[0m\n\u001b[0;32m--> 437\u001b[0;31m         \u001b[0mself\u001b[0m\u001b[0;34m.\u001b[0m\u001b[0mextend\u001b[0m\u001b[0;34m(\u001b[0m\u001b[0;34m[\u001b[0m\u001b[0mself\u001b[0m\u001b[0;34m.\u001b[0m\u001b[0m_DefaultType\u001b[0m\u001b[0;34m(\u001b[0m\u001b[0;34m**\u001b[0m\u001b[0mobj\u001b[0m\u001b[0;34m)\u001b[0m \u001b[0;32mfor\u001b[0m \u001b[0mobj\u001b[0m \u001b[0;32min\u001b[0m \u001b[0mannotations\u001b[0m\u001b[0;34m]\u001b[0m\u001b[0;34m)\u001b[0m\u001b[0;34m\u001b[0m\u001b[0m\n\u001b[0m\u001b[1;32m    438\u001b[0m \u001b[0;34m\u001b[0m\u001b[0m\n\u001b[1;32m    439\u001b[0m     \u001b[0;32mdef\u001b[0m \u001b[0mcreate_annotation\u001b[0m\u001b[0;34m(\u001b[0m\u001b[0mself\u001b[0m\u001b[0;34m)\u001b[0m\u001b[0;34m:\u001b[0m\u001b[0;34m\u001b[0m\u001b[0m\n",
        "\u001b[0;32m/Users/uri/NYU/Dissertation/jams/pyjams.py\u001b[0m in \u001b[0;36m__init__\u001b[0;34m(self, data, annotation_metadata)\u001b[0m\n\u001b[1;32m    282\u001b[0m         \u001b[0;32mif\u001b[0m \u001b[0mannotation_metadata\u001b[0m \u001b[0;32mis\u001b[0m \u001b[0mNone\u001b[0m\u001b[0;34m:\u001b[0m\u001b[0;34m\u001b[0m\u001b[0m\n\u001b[1;32m    283\u001b[0m             \u001b[0mannotation_metadata\u001b[0m \u001b[0;34m=\u001b[0m \u001b[0mAnnotationMetadata\u001b[0m\u001b[0;34m(\u001b[0m\u001b[0;34m)\u001b[0m\u001b[0;34m\u001b[0m\u001b[0m\n\u001b[0;32m--> 284\u001b[0;31m         \u001b[0mself\u001b[0m\u001b[0;34m.\u001b[0m\u001b[0mdata\u001b[0m \u001b[0;34m=\u001b[0m \u001b[0mself\u001b[0m\u001b[0;34m.\u001b[0m\u001b[0m__parse_data__\u001b[0m\u001b[0;34m(\u001b[0m\u001b[0mdata\u001b[0m\u001b[0;34m)\u001b[0m\u001b[0;34m\u001b[0m\u001b[0m\n\u001b[0m\u001b[1;32m    285\u001b[0m         \u001b[0mself\u001b[0m\u001b[0;34m.\u001b[0m\u001b[0mannotation_metadata\u001b[0m \u001b[0;34m=\u001b[0m \u001b[0mAnnotationMetadata\u001b[0m\u001b[0;34m(\u001b[0m\u001b[0;34m**\u001b[0m\u001b[0mannotation_metadata\u001b[0m\u001b[0;34m)\u001b[0m\u001b[0;34m\u001b[0m\u001b[0m\n\u001b[1;32m    286\u001b[0m \u001b[0;34m\u001b[0m\u001b[0m\n",
        "\u001b[0;32m/Users/uri/NYU/Dissertation/jams/pyjams.py\u001b[0m in \u001b[0;36m__parse_data__\u001b[0;34m(self, data)\u001b[0m\n\u001b[1;32m    300\u001b[0m             \u001b[0mCollection\u001b[0m \u001b[0mof\u001b[0m \u001b[0m_DefaultTypes\u001b[0m\u001b[0;34m.\u001b[0m\u001b[0;34m\u001b[0m\u001b[0m\n\u001b[1;32m    301\u001b[0m         \"\"\"\n\u001b[0;32m--> 302\u001b[0;31m         \u001b[0;32mreturn\u001b[0m \u001b[0;34m[\u001b[0m\u001b[0mself\u001b[0m\u001b[0;34m.\u001b[0m\u001b[0m_DefaultType\u001b[0m\u001b[0;34m(\u001b[0m\u001b[0;34m**\u001b[0m\u001b[0mobj\u001b[0m\u001b[0;34m)\u001b[0m \u001b[0;32mfor\u001b[0m \u001b[0mobj\u001b[0m \u001b[0;32min\u001b[0m \u001b[0mdata\u001b[0m\u001b[0;34m]\u001b[0m\u001b[0;34m\u001b[0m\u001b[0m\n\u001b[0m\u001b[1;32m    303\u001b[0m \u001b[0;34m\u001b[0m\u001b[0m\n\u001b[1;32m    304\u001b[0m     \u001b[0;32mdef\u001b[0m \u001b[0mcreate_datapoint\u001b[0m\u001b[0;34m(\u001b[0m\u001b[0mself\u001b[0m\u001b[0;34m)\u001b[0m\u001b[0;34m:\u001b[0m\u001b[0;34m\u001b[0m\u001b[0m\n",
        "\u001b[0;31mTypeError\u001b[0m: __init__() got an unexpected keyword argument 'level'"
       ]
      }
     ],
     "prompt_number": 1
    },
    {
     "cell_type": "code",
     "collapsed": false,
     "input": [
      "import json\n",
      "import glob\n",
      "\n",
      "jam_files = glob.glob(\"/Users/uri/datasets/Segments/annotations/*.jams\")\n",
      "for jam_file in jam_files:\n",
      "    f = open(jam_file, \"r\")\n",
      "    gt = json.load(f)\n",
      "    for annotation in gt[\"sections\"]:\n",
      "        for data in annotation[\"data\"]:\n",
      "            data[\"label\"][\"context\"] = data[\"level\"]\n",
      "            data.pop(\"level\", None)\n",
      "    f.close()\n",
      "    \n",
      "    f = open(jam_file, \"w\")\n",
      "    json.dump(gt, f, indent=2)\n",
      "    f.close()"
     ],
     "language": "python",
     "metadata": {},
     "outputs": [],
     "prompt_number": 2
    },
    {
     "cell_type": "code",
     "collapsed": false,
     "input": [
      "import jams\n",
      "jam = jams.load(\"test.jams\")"
     ],
     "language": "python",
     "metadata": {},
     "outputs": [],
     "prompt_number": 1
    },
    {
     "cell_type": "code",
     "collapsed": false,
     "input": [
      "import essentia\n",
      "essentia.array??\n"
     ],
     "language": "python",
     "metadata": {},
     "outputs": [],
     "prompt_number": 5
    },
    {
     "cell_type": "code",
     "collapsed": false,
     "input": [
      "import json\n",
      "import glob\n",
      "import jams\n",
      "\n",
      "jam = jams.load(\"/Users/uri/datasets/Segments/annotations/Epiphyte_0070_dipitlow.jams\")\n",
      "beat_data = jam.beats[0].data\n",
      "beat_data[3].time.value"
     ],
     "language": "python",
     "metadata": {},
     "outputs": [
      {
       "metadata": {},
       "output_type": "pyout",
       "prompt_number": 8,
       "text": [
        "4.986138"
       ]
      }
     ],
     "prompt_number": 8
    },
    {
     "cell_type": "code",
     "collapsed": false,
     "input": [
      "import mir_eval\n",
      "times, labels = mir_eval.input_output.load_jams_range(\"/Users/uri/datasets/Segments/annotations/SALAMI_956.jams\", \"sections\", context=\"small_scale\")\n",
      "times2, labels2 = mir_eval.input_output.load_annotation(\"../algorithms/olda/code/out.lab\")\n",
      "\n",
      "p, r, f = mir_eval.segment.boundary_detection(times, times2, window=3)\n",
      "\n",
      "print p,r,f"
     ],
     "language": "python",
     "metadata": {},
     "outputs": [
      {
       "output_type": "stream",
       "stream": "stdout",
       "text": [
        "processing  /Users/uri/datasets/Segments/annotations/SALAMI_2.jams\n",
        "1.0 0.315789473684 0.48\n"
       ]
      }
     ],
     "prompt_number": 29
    },
    {
     "cell_type": "code",
     "collapsed": false,
     "input": [
      "times, labels"
     ],
     "language": "python",
     "metadata": {},
     "outputs": [
      {
       "metadata": {},
       "output_type": "pyout",
       "prompt_number": 6,
       "text": [
        "(array([  0.00000000e+00,   2.23492063e-01,   1.35291610e+01,\n",
        "         2.68090249e+01,   3.99789116e+01,   5.31622222e+01,\n",
        "         6.63397279e+01,   7.95885261e+01,   9.28204535e+01,\n",
        "         1.06015397e+02,   1.19207778e+02,   1.32316916e+02,\n",
        "         1.45625374e+02,   1.58831224e+02,   1.72036009e+02,\n",
        "         1.85254580e+02,   1.98422313e+02,   2.11613810e+02,\n",
        "         2.24810567e+02,   2.38048889e+02,   2.51203651e+02,\n",
        "         2.64395896e+02,   2.77775170e+02,   2.90827370e+02,\n",
        "         3.14269342e+02]),\n",
        " ['Silence',\n",
        "  'a',\n",
        "  \"a'\",\n",
        "  'b',\n",
        "  \"b'\",\n",
        "  'c',\n",
        "  'c',\n",
        "  'd',\n",
        "  \"b'\",\n",
        "  \"b'\",\n",
        "  'c',\n",
        "  'c',\n",
        "  'd',\n",
        "  'e',\n",
        "  'f',\n",
        "  'g',\n",
        "  \"b'\",\n",
        "  \"b'\",\n",
        "  'c',\n",
        "  'c',\n",
        "  'd',\n",
        "  'e',\n",
        "  'f',\n",
        "  'g',\n",
        "  'End'])"
       ]
      }
     ],
     "prompt_number": 6
    },
    {
     "cell_type": "code",
     "collapsed": false,
     "input": [
      "import os\n",
      "os.path.isfile(\"../out.json\")"
     ],
     "language": "python",
     "metadata": {},
     "outputs": [
      {
       "metadata": {},
       "output_type": "pyout",
       "prompt_number": 31,
       "text": [
        "True"
       ]
      }
     ],
     "prompt_number": 31
    },
    {
     "cell_type": "code",
     "collapsed": false,
     "input": [
      "import datetime\n",
      "datetime.datetime.today().strftime(\"%Y/%m/%d %H:%M:%S\")"
     ],
     "language": "python",
     "metadata": {},
     "outputs": [
      {
       "metadata": {},
       "output_type": "pyout",
       "prompt_number": 44,
       "text": [
        "'2014/03/04 15:24:14'"
       ]
      }
     ],
     "prompt_number": 44
    },
    {
     "cell_type": "code",
     "collapsed": false,
     "input": [
      "import glob\n",
      "import subprocess\n",
      "import os\n",
      "audio_files = glob.glob(\"/Users/uri/datasets/Segments/audio/Isophonics_*.[wm][ap][v3]\")\n",
      "out_dir = \"/Users/uri/datasets/Segments/audio_corrected/\"\n",
      "print len(audio_files)\n",
      "for audio_file in audio_files:\n",
      "    cmd = [\"sox\", audio_file.replace(\" \", \"\\ \"),\n",
      "            out_dir + os.path.basename(audio_file)[:-4].replace(\" \", \"\\ \") + \".mp3\"]\n",
      "    print \"Processing %s ...\" % audio_file\n",
      "    subprocess.call(cmd)"
     ],
     "language": "python",
     "metadata": {},
     "outputs": [
      {
       "output_type": "stream",
       "stream": "stdout",
       "text": [
        "300\n",
        "Processing /Users/uri/datasets/Segments/audio/Isophonics_01 A Kind Of Magic.mp3 ...\n",
        "Processing /Users/uri/datasets/Segments/audio/Isophonics_01 Bohemian Rhapsody.mp3 ..."
       ]
      },
      {
       "output_type": "stream",
       "stream": "stdout",
       "text": [
        "\n",
        "Processing /Users/uri/datasets/Segments/audio/Isophonics_01 I Feel The Earth Move.mp3 ..."
       ]
      },
      {
       "output_type": "stream",
       "stream": "stdout",
       "text": [
        "\n",
        "Processing /Users/uri/datasets/Segments/audio/Isophonics_01 The Show Must Go On.mp3 ..."
       ]
      },
      {
       "output_type": "stream",
       "stream": "stdout",
       "text": [
        "\n",
        "Processing /Users/uri/datasets/Segments/audio/Isophonics_01_-_A_Hard_Day's_Night.mp3 ..."
       ]
      },
      {
       "output_type": "stream",
       "stream": "stdout",
       "text": [
        "\n",
        "Processing /Users/uri/datasets/Segments/audio/Isophonics_01_-_Come_Together.mp3 ..."
       ]
      },
      {
       "output_type": "stream",
       "stream": "stdout",
       "text": [
        "\n",
        "Processing /Users/uri/datasets/Segments/audio/Isophonics_01_-_Drive_My_Car.mp3 ..."
       ]
      },
      {
       "output_type": "stream",
       "stream": "stdout",
       "text": [
        "\n",
        "Processing /Users/uri/datasets/Segments/audio/Isophonics_01_-_Help!.mp3 ..."
       ]
      },
      {
       "output_type": "stream",
       "stream": "stdout",
       "text": [
        "\n",
        "Processing /Users/uri/datasets/Segments/audio/Isophonics_01_-_I_Saw_Her_Standing_There.mp3 ..."
       ]
      },
      {
       "output_type": "stream",
       "stream": "stdout",
       "text": [
        "\n",
        "Processing /Users/uri/datasets/Segments/audio/Isophonics_01_-_It_Won't_Be_Long.mp3 ..."
       ]
      },
      {
       "output_type": "stream",
       "stream": "stdout",
       "text": [
        "\n",
        "Processing /Users/uri/datasets/Segments/audio/Isophonics_01_-_Magical_Mystery_Tour.mp3 ..."
       ]
      },
      {
       "output_type": "stream",
       "stream": "stdout",
       "text": [
        "\n",
        "Processing /Users/uri/datasets/Segments/audio/Isophonics_01_-_No_Reply.mp3 ..."
       ]
      },
      {
       "output_type": "stream",
       "stream": "stdout",
       "text": [
        "\n",
        "Processing /Users/uri/datasets/Segments/audio/Isophonics_01_-_Sgt._Pepper's_Lonely_Hearts_Club_Band.mp3 ..."
       ]
      },
      {
       "output_type": "stream",
       "stream": "stdout",
       "text": [
        "\n",
        "Processing /Users/uri/datasets/Segments/audio/Isophonics_01_-_Spiel_Mir_Eine_Alte_Melodie.mp3 ..."
       ]
      },
      {
       "output_type": "stream",
       "stream": "stdout",
       "text": [
        "\n",
        "Processing /Users/uri/datasets/Segments/audio/Isophonics_01_-_Taxman.mp3 ..."
       ]
      },
      {
       "output_type": "stream",
       "stream": "stdout",
       "text": [
        "\n",
        "Processing /Users/uri/datasets/Segments/audio/Isophonics_01_-_Two_of_Us.mp3 ..."
       ]
      },
      {
       "output_type": "stream",
       "stream": "stdout",
       "text": [
        "\n",
        "Processing /Users/uri/datasets/Segments/audio/Isophonics_02 Another One Bites The Dust.mp3 ..."
       ]
      },
      {
       "output_type": "stream",
       "stream": "stdout",
       "text": [
        "\n",
        "Processing /Users/uri/datasets/Segments/audio/Isophonics_02 So Far Away.mp3 ..."
       ]
      },
      {
       "output_type": "stream",
       "stream": "stdout",
       "text": [
        "\n",
        "Processing /Users/uri/datasets/Segments/audio/Isophonics_02 Under Pressure.mp3 ..."
       ]
      },
      {
       "output_type": "stream",
       "stream": "stdout",
       "text": [
        "\n",
        "Processing /Users/uri/datasets/Segments/audio/Isophonics_02_-_All_I've_Got_To_Do.mp3 ..."
       ]
      },
      {
       "output_type": "stream",
       "stream": "stdout",
       "text": [
        "\n",
        "Processing /Users/uri/datasets/Segments/audio/Isophonics_02_-_Dig_a_Pony.mp3 ..."
       ]
      },
      {
       "output_type": "stream",
       "stream": "stdout",
       "text": [
        "\n",
        "Processing /Users/uri/datasets/Segments/audio/Isophonics_02_-_Eleanor_Rigby.mp3 ..."
       ]
      },
      {
       "output_type": "stream",
       "stream": "stdout",
       "text": [
        "\n",
        "Processing /Users/uri/datasets/Segments/audio/Isophonics_02_-_I'm_a_Loser.mp3 ..."
       ]
      },
      {
       "output_type": "stream",
       "stream": "stdout",
       "text": [
        "\n",
        "Processing /Users/uri/datasets/Segments/audio/Isophonics_02_-_I_Should_Have_Known_Better.mp3 ..."
       ]
      },
      {
       "output_type": "stream",
       "stream": "stdout",
       "text": [
        "\n",
        "Processing /Users/uri/datasets/Segments/audio/Isophonics_02_-_Misery.mp3 ..."
       ]
      },
      {
       "output_type": "stream",
       "stream": "stdout",
       "text": [
        "\n",
        "Processing /Users/uri/datasets/Segments/audio/Isophonics_02_-_Norwegian_Wood_(This_Bird_Has_Flown).mp3 ..."
       ]
      },
      {
       "output_type": "stream",
       "stream": "stdout",
       "text": [
        "\n",
        "Processing /Users/uri/datasets/Segments/audio/Isophonics_02_-_Rawhide.mp3 ..."
       ]
      },
      {
       "output_type": "stream",
       "stream": "stdout",
       "text": [
        "\n",
        "Processing /Users/uri/datasets/Segments/audio/Isophonics_02_-_Something.mp3 ..."
       ]
      },
      {
       "output_type": "stream",
       "stream": "stdout",
       "text": [
        "\n",
        "Processing /Users/uri/datasets/Segments/audio/Isophonics_02_-_The_Fool_On_The_Hill.mp3 ..."
       ]
      },
      {
       "output_type": "stream",
       "stream": "stdout",
       "text": [
        "\n",
        "Processing /Users/uri/datasets/Segments/audio/Isophonics_02_-_The_Night_Before.mp3 ..."
       ]
      },
      {
       "output_type": "stream",
       "stream": "stdout",
       "text": [
        "\n",
        "Processing /Users/uri/datasets/Segments/audio/Isophonics_02_-_With_A_Little_Help_From_My_Friends.mp3 ..."
       ]
      },
      {
       "output_type": "stream",
       "stream": "stdout",
       "text": [
        "\n",
        "Processing /Users/uri/datasets/Segments/audio/Isophonics_03 Barcelona.mp3 ..."
       ]
      },
      {
       "output_type": "stream",
       "stream": "stdout",
       "text": [
        "\n",
        "Processing /Users/uri/datasets/Segments/audio/Isophonics_03 It's Too Late.mp3 ..."
       ]
      },
      {
       "output_type": "stream",
       "stream": "stdout",
       "text": [
        "\n",
        "Processing /Users/uri/datasets/Segments/audio/Isophonics_03 Killer Queen.mp3 ..."
       ]
      },
      {
       "output_type": "stream",
       "stream": "stdout",
       "text": [
        "\n",
        "Processing /Users/uri/datasets/Segments/audio/Isophonics_03 Radio Ga Ga.mp3 ..."
       ]
      },
      {
       "output_type": "stream",
       "stream": "stdout",
       "text": [
        "\n",
        "Processing /Users/uri/datasets/Segments/audio/Isophonics_03_-_Across_the_Universe.mp3 ..."
       ]
      },
      {
       "output_type": "stream",
       "stream": "stdout",
       "text": [
        "\n",
        "Processing /Users/uri/datasets/Segments/audio/Isophonics_03_-_All_My_Loving.mp3 ..."
       ]
      },
      {
       "output_type": "stream",
       "stream": "stdout",
       "text": [
        "\n",
        "Processing /Users/uri/datasets/Segments/audio/Isophonics_03_-_Anna_(Go_To_Him).mp3 ..."
       ]
      },
      {
       "output_type": "stream",
       "stream": "stdout",
       "text": [
        "\n",
        "Processing /Users/uri/datasets/Segments/audio/Isophonics_03_-_Baby's_In_Black.mp3 ..."
       ]
      },
      {
       "output_type": "stream",
       "stream": "stdout",
       "text": [
        "\n",
        "Processing /Users/uri/datasets/Segments/audio/Isophonics_03_-_Flying.mp3 ..."
       ]
      },
      {
       "output_type": "stream",
       "stream": "stdout",
       "text": [
        "\n",
        "Processing /Users/uri/datasets/Segments/audio/Isophonics_03_-_I'm_Only_Sleeping.mp3 ..."
       ]
      },
      {
       "output_type": "stream",
       "stream": "stdout",
       "text": [
        "\n",
        "Processing /Users/uri/datasets/Segments/audio/Isophonics_03_-_If_I_Fell.mp3 ..."
       ]
      },
      {
       "output_type": "stream",
       "stream": "stdout",
       "text": [
        "\n",
        "Processing /Users/uri/datasets/Segments/audio/Isophonics_03_-_Lucy_In_The_Sky_With_Diamonds.mp3 ..."
       ]
      },
      {
       "output_type": "stream",
       "stream": "stdout",
       "text": [
        "\n",
        "Processing /Users/uri/datasets/Segments/audio/Isophonics_03_-_Maxwell's_Silver_Hammer.mp3 ..."
       ]
      },
      {
       "output_type": "stream",
       "stream": "stdout",
       "text": [
        "\n",
        "Processing /Users/uri/datasets/Segments/audio/Isophonics_03_-_She.mp3 ..."
       ]
      },
      {
       "output_type": "stream",
       "stream": "stdout",
       "text": [
        "\n",
        "Processing /Users/uri/datasets/Segments/audio/Isophonics_03_-_You've_Got_To_Hide_Your_Love_Away.mp3 ..."
       ]
      },
      {
       "output_type": "stream",
       "stream": "stdout",
       "text": [
        "\n",
        "Processing /Users/uri/datasets/Segments/audio/Isophonics_03_-_You_Won't_See_Me.mp3 ..."
       ]
      },
      {
       "output_type": "stream",
       "stream": "stdout",
       "text": [
        "\n",
        "Processing /Users/uri/datasets/Segments/audio/Isophonics_04 Fat Bottomed Girls.mp3 ..."
       ]
      },
      {
       "output_type": "stream",
       "stream": "stdout",
       "text": [
        "\n",
        "Processing /Users/uri/datasets/Segments/audio/Isophonics_04 Home Again.mp3 ..."
       ]
      },
      {
       "output_type": "stream",
       "stream": "stdout",
       "text": [
        "\n",
        "Processing /Users/uri/datasets/Segments/audio/Isophonics_04 I Want It All.mp3 ..."
       ]
      },
      {
       "output_type": "stream",
       "stream": "stdout",
       "text": [
        "\n",
        "Processing /Users/uri/datasets/Segments/audio/Isophonics_04 Too Much Love Will Kill You.mp3 ..."
       ]
      },
      {
       "output_type": "stream",
       "stream": "stdout",
       "text": [
        "\n",
        "Processing /Users/uri/datasets/Segments/audio/Isophonics_04_-_Blue_Jay_Way.mp3 ..."
       ]
      },
      {
       "output_type": "stream",
       "stream": "stdout",
       "text": [
        "\n",
        "Processing /Users/uri/datasets/Segments/audio/Isophonics_04_-_Chains.mp3 ..."
       ]
      },
      {
       "output_type": "stream",
       "stream": "stdout",
       "text": [
        "\n",
        "Processing /Users/uri/datasets/Segments/audio/Isophonics_04_-_Don't_Bother_Me.mp3 ..."
       ]
      },
      {
       "output_type": "stream",
       "stream": "stdout",
       "text": [
        "\n",
        "Processing /Users/uri/datasets/Segments/audio/Isophonics_04_-_Erbauliche_Gedanken_Eines_Tobackrauchers.mp3 ..."
       ]
      },
      {
       "output_type": "stream",
       "stream": "stdout",
       "text": [
        "\n",
        "Processing /Users/uri/datasets/Segments/audio/Isophonics_04_-_Getting_Better.mp3 ..."
       ]
      },
      {
       "output_type": "stream",
       "stream": "stdout",
       "text": [
        "\n",
        "Processing /Users/uri/datasets/Segments/audio/Isophonics_04_-_I'm_Happy_Just_To_Dance_With_You.mp3 ..."
       ]
      },
      {
       "output_type": "stream",
       "stream": "stdout",
       "text": [
        "\n",
        "Processing /Users/uri/datasets/Segments/audio/Isophonics_04_-_I_Me_Mine.mp3 ..."
       ]
      },
      {
       "output_type": "stream",
       "stream": "stdout",
       "text": [
        "\n",
        "Processing /Users/uri/datasets/Segments/audio/Isophonics_04_-_I_Need_You.mp3 ..."
       ]
      },
      {
       "output_type": "stream",
       "stream": "stdout",
       "text": [
        "\n",
        "Processing /Users/uri/datasets/Segments/audio/Isophonics_04_-_Love_You_To.mp3 ..."
       ]
      },
      {
       "output_type": "stream",
       "stream": "stdout",
       "text": [
        "\n",
        "Processing /Users/uri/datasets/Segments/audio/Isophonics_04_-_Nowhere_Man.mp3 ..."
       ]
      },
      {
       "output_type": "stream",
       "stream": "stdout",
       "text": [
        "\n",
        "Processing /Users/uri/datasets/Segments/audio/Isophonics_04_-_Oh!_Darling.mp3 ..."
       ]
      },
      {
       "output_type": "stream",
       "stream": "stdout",
       "text": [
        "\n",
        "Processing /Users/uri/datasets/Segments/audio/Isophonics_04_-_Rock_and_Roll_Music.mp3 ..."
       ]
      },
      {
       "output_type": "stream",
       "stream": "stdout",
       "text": [
        "\n",
        "Processing /Users/uri/datasets/Segments/audio/Isophonics_05 Beautiful.mp3 ..."
       ]
      },
      {
       "output_type": "stream",
       "stream": "stdout",
       "text": [
        "\n",
        "Processing /Users/uri/datasets/Segments/audio/Isophonics_05 Bicycle Race.mp3 ..."
       ]
      },
      {
       "output_type": "stream",
       "stream": "stdout",
       "text": [
        "\n",
        "Processing /Users/uri/datasets/Segments/audio/Isophonics_05 I Want To Break Free.mp3 ..."
       ]
      },
      {
       "output_type": "stream",
       "stream": "stdout",
       "text": [
        "\n",
        "Processing /Users/uri/datasets/Segments/audio/Isophonics_05 Somebody To Love.mp3 ..."
       ]
      },
      {
       "output_type": "stream",
       "stream": "stdout",
       "text": [
        "\n",
        "Processing /Users/uri/datasets/Segments/audio/Isophonics_05_-_And_I_Love_Her.mp3 ..."
       ]
      },
      {
       "output_type": "stream",
       "stream": "stdout",
       "text": [
        "\n",
        "Processing /Users/uri/datasets/Segments/audio/Isophonics_05_-_Andersrum.mp3 ..."
       ]
      },
      {
       "output_type": "stream",
       "stream": "stdout",
       "text": [
        "\n",
        "Processing /Users/uri/datasets/Segments/audio/Isophonics_05_-_Another_Girl.mp3 ..."
       ]
      },
      {
       "output_type": "stream",
       "stream": "stdout",
       "text": [
        "\n",
        "Processing /Users/uri/datasets/Segments/audio/Isophonics_05_-_Boys.mp3 ..."
       ]
      },
      {
       "output_type": "stream",
       "stream": "stdout",
       "text": [
        "\n",
        "Processing /Users/uri/datasets/Segments/audio/Isophonics_05_-_Dig_It.mp3 ..."
       ]
      },
      {
       "output_type": "stream",
       "stream": "stdout",
       "text": [
        "\n",
        "Processing /Users/uri/datasets/Segments/audio/Isophonics_05_-_Fixing_A_Hole.mp3 ..."
       ]
      },
      {
       "output_type": "stream",
       "stream": "stdout",
       "text": [
        "\n",
        "Processing /Users/uri/datasets/Segments/audio/Isophonics_05_-_Here,_There_And_Everywhere.mp3 ..."
       ]
      },
      {
       "output_type": "stream",
       "stream": "stdout",
       "text": [
        "\n",
        "Processing /Users/uri/datasets/Segments/audio/Isophonics_05_-_I'll_Follow_the_Sun.mp3 ..."
       ]
      },
      {
       "output_type": "stream",
       "stream": "stdout",
       "text": [
        "\n",
        "Processing /Users/uri/datasets/Segments/audio/Isophonics_05_-_Little_Child.mp3 ..."
       ]
      },
      {
       "output_type": "stream",
       "stream": "stdout",
       "text": [
        "\n",
        "Processing /Users/uri/datasets/Segments/audio/Isophonics_05_-_Octopus's_Garden.mp3 ..."
       ]
      },
      {
       "output_type": "stream",
       "stream": "stdout",
       "text": [
        "\n",
        "Processing /Users/uri/datasets/Segments/audio/Isophonics_05_-_Think_For_Yourself.mp3 ..."
       ]
      },
      {
       "output_type": "stream",
       "stream": "stdout",
       "text": [
        "\n",
        "Processing /Users/uri/datasets/Segments/audio/Isophonics_05_-_Your_Mother_Should_Know.mp3 ..."
       ]
      },
      {
       "output_type": "stream",
       "stream": "stdout",
       "text": [
        "\n",
        "Processing /Users/uri/datasets/Segments/audio/Isophonics_06 Innuendo.mp3 ..."
       ]
      },
      {
       "output_type": "stream",
       "stream": "stdout",
       "text": [
        "\n",
        "Processing /Users/uri/datasets/Segments/audio/Isophonics_06 Way Over Yonder.mp3 ..."
       ]
      },
      {
       "output_type": "stream",
       "stream": "stdout",
       "text": [
        "\n",
        "Processing /Users/uri/datasets/Segments/audio/Isophonics_06 You Don't Fool Me.mp3 ..."
       ]
      },
      {
       "output_type": "stream",
       "stream": "stdout",
       "text": [
        "\n",
        "Processing /Users/uri/datasets/Segments/audio/Isophonics_06 You're My Best Friend.mp3 ..."
       ]
      },
      {
       "output_type": "stream",
       "stream": "stdout",
       "text": [
        "\n",
        "Processing /Users/uri/datasets/Segments/audio/Isophonics_06_-_Ask_Me_Why.mp3 ..."
       ]
      },
      {
       "output_type": "stream",
       "stream": "stdout",
       "text": [
        "\n",
        "Processing /Users/uri/datasets/Segments/audio/Isophonics_06_-_I_Am_The_Walrus.mp3 ..."
       ]
      },
      {
       "output_type": "stream",
       "stream": "stdout",
       "text": [
        "\n",
        "Processing /Users/uri/datasets/Segments/audio/Isophonics_06_-_I_Want_You.mp3 ..."
       ]
      },
      {
       "output_type": "stream",
       "stream": "stdout",
       "text": [
        "\n",
        "Processing /Users/uri/datasets/Segments/audio/Isophonics_06_-_Let_It_Be.mp3 ..."
       ]
      },
      {
       "output_type": "stream",
       "stream": "stdout",
       "text": [
        "\n",
        "Processing /Users/uri/datasets/Segments/audio/Isophonics_06_-_Mr._Moonlight.mp3 ..."
       ]
      },
      {
       "output_type": "stream",
       "stream": "stdout",
       "text": [
        "\n",
        "Processing /Users/uri/datasets/Segments/audio/Isophonics_06_-_She's_Leaving_Home.mp3 ..."
       ]
      },
      {
       "output_type": "stream",
       "stream": "stdout",
       "text": [
        "\n",
        "Processing /Users/uri/datasets/Segments/audio/Isophonics_06_-_Tell_Me_Why.mp3 ..."
       ]
      },
      {
       "output_type": "stream",
       "stream": "stdout",
       "text": [
        "\n",
        "Processing /Users/uri/datasets/Segments/audio/Isophonics_06_-_The_Word.mp3 ..."
       ]
      },
      {
       "output_type": "stream",
       "stream": "stdout",
       "text": [
        "\n",
        "Processing /Users/uri/datasets/Segments/audio/Isophonics_06_-_Tigerfest.mp3 ..."
       ]
      },
      {
       "output_type": "stream",
       "stream": "stdout",
       "text": [
        "\n",
        "Processing /Users/uri/datasets/Segments/audio/Isophonics_06_-_Till_There_Was_You.mp3 ..."
       ]
      },
      {
       "output_type": "stream",
       "stream": "stdout",
       "text": [
        "\n",
        "Processing /Users/uri/datasets/Segments/audio/Isophonics_06_-_Yellow_Submarine.mp3 ..."
       ]
      },
      {
       "output_type": "stream",
       "stream": "stdout",
       "text": [
        "\n",
        "Processing /Users/uri/datasets/Segments/audio/Isophonics_06_-_You're_Going_To_Lose_That_Girl.mp3 ..."
       ]
      },
      {
       "output_type": "stream",
       "stream": "stdout",
       "text": [
        "\n",
        "Processing /Users/uri/datasets/Segments/audio/Isophonics_07 Don't Stop Me Now.mp3 ..."
       ]
      },
      {
       "output_type": "stream",
       "stream": "stdout",
       "text": [
        "\n",
        "Processing /Users/uri/datasets/Segments/audio/Isophonics_07 Heaven For Everyone.mp3 ..."
       ]
      },
      {
       "output_type": "stream",
       "stream": "stdout",
       "text": [
        "\n",
        "Processing /Users/uri/datasets/Segments/audio/Isophonics_07 It's A Hard Life.mp3 ..."
       ]
      },
      {
       "output_type": "stream",
       "stream": "stdout",
       "text": [
        "\n",
        "Processing /Users/uri/datasets/Segments/audio/Isophonics_07 You've Got A Friend.mp3 ..."
       ]
      },
      {
       "output_type": "stream",
       "stream": "stdout",
       "text": [
        "\n",
        "Processing /Users/uri/datasets/Segments/audio/Isophonics_07_-_Akne.mp3 ..."
       ]
      },
      {
       "output_type": "stream",
       "stream": "stdout",
       "text": [
        "\n",
        "Processing /Users/uri/datasets/Segments/audio/Isophonics_07_-_Being_For_The_Benefit_Of_Mr._Kite!.mp3 ..."
       ]
      },
      {
       "output_type": "stream",
       "stream": "stdout",
       "text": [
        "\n",
        "Processing /Users/uri/datasets/Segments/audio/Isophonics_07_-_Can't_Buy_Me_Love.mp3 ..."
       ]
      },
      {
       "output_type": "stream",
       "stream": "stdout",
       "text": [
        "\n",
        "Processing /Users/uri/datasets/Segments/audio/Isophonics_07_-_Hello_Goodbye.mp3 ..."
       ]
      },
      {
       "output_type": "stream",
       "stream": "stdout",
       "text": [
        "\n",
        "Processing /Users/uri/datasets/Segments/audio/Isophonics_07_-_Here_Comes_The_Sun.mp3 ..."
       ]
      },
      {
       "output_type": "stream",
       "stream": "stdout",
       "text": [
        "\n",
        "Processing /Users/uri/datasets/Segments/audio/Isophonics_07_-_Kansas_City-_Hey,_Hey,_Hey,_Hey.mp3 ..."
       ]
      },
      {
       "output_type": "stream",
       "stream": "stdout",
       "text": [
        "\n",
        "Processing /Users/uri/datasets/Segments/audio/Isophonics_07_-_Maggie_Mae.mp3 ..."
       ]
      },
      {
       "output_type": "stream",
       "stream": "stdout",
       "text": [
        "\n",
        "Processing /Users/uri/datasets/Segments/audio/Isophonics_07_-_Michelle.mp3 ..."
       ]
      },
      {
       "output_type": "stream",
       "stream": "stdout",
       "text": [
        "\n",
        "Processing /Users/uri/datasets/Segments/audio/Isophonics_07_-_Please_Mister_Postman.mp3 ..."
       ]
      },
      {
       "output_type": "stream",
       "stream": "stdout",
       "text": [
        "\n",
        "Processing /Users/uri/datasets/Segments/audio/Isophonics_07_-_Please_Please_Me.mp3 ..."
       ]
      },
      {
       "output_type": "stream",
       "stream": "stdout",
       "text": [
        "\n",
        "Processing /Users/uri/datasets/Segments/audio/Isophonics_07_-_She_Said_She_Said.mp3 ..."
       ]
      },
      {
       "output_type": "stream",
       "stream": "stdout",
       "text": [
        "\n",
        "Processing /Users/uri/datasets/Segments/audio/Isophonics_07_-_Ticket_To_Ride.mp3 ..."
       ]
      },
      {
       "output_type": "stream",
       "stream": "stdout",
       "text": [
        "\n",
        "Processing /Users/uri/datasets/Segments/audio/Isophonics_08 Breakthru.mp3 ..."
       ]
      },
      {
       "output_type": "stream",
       "stream": "stdout",
       "text": [
        "\n",
        "Processing /Users/uri/datasets/Segments/audio/Isophonics_08 Las Palabras De Amor.mp3 ..."
       ]
      },
      {
       "output_type": "stream",
       "stream": "stdout",
       "text": [
        "\n",
        "Processing /Users/uri/datasets/Segments/audio/Isophonics_08 Save Me.mp3 ..."
       ]
      },
      {
       "output_type": "stream",
       "stream": "stdout",
       "text": [
        "\n",
        "Processing /Users/uri/datasets/Segments/audio/Isophonics_08 Where You Lead.mp3 ..."
       ]
      },
      {
       "output_type": "stream",
       "stream": "stdout",
       "text": [
        "\n",
        "Processing /Users/uri/datasets/Segments/audio/Isophonics_08_-_Act_Naturally.mp3 ..."
       ]
      },
      {
       "output_type": "stream",
       "stream": "stdout",
       "text": [
        "\n",
        "Processing /Users/uri/datasets/Segments/audio/Isophonics_08_-_Any_Time_At_All.mp3 ..."
       ]
      },
      {
       "output_type": "stream",
       "stream": "stdout",
       "text": [
        "\n",
        "Processing /Users/uri/datasets/Segments/audio/Isophonics_08_-_Because.mp3 ..."
       ]
      },
      {
       "output_type": "stream",
       "stream": "stdout",
       "text": [
        "\n",
        "Processing /Users/uri/datasets/Segments/audio/Isophonics_08_-_Blass.mp3 ..."
       ]
      },
      {
       "output_type": "stream",
       "stream": "stdout",
       "text": [
        "\n",
        "Processing /Users/uri/datasets/Segments/audio/Isophonics_08_-_Eight_Days_a_Week.mp3 ..."
       ]
      },
      {
       "output_type": "stream",
       "stream": "stdout",
       "text": [
        "\n",
        "Processing /Users/uri/datasets/Segments/audio/Isophonics_08_-_Good_Day_Sunshine.mp3 ..."
       ]
      },
      {
       "output_type": "stream",
       "stream": "stdout",
       "text": [
        "\n",
        "Processing /Users/uri/datasets/Segments/audio/Isophonics_08_-_I've_Got_A_Feeling.mp3 ..."
       ]
      },
      {
       "output_type": "stream",
       "stream": "stdout",
       "text": [
        "\n",
        "Processing /Users/uri/datasets/Segments/audio/Isophonics_08_-_Love_Me_Do.mp3 ..."
       ]
      },
      {
       "output_type": "stream",
       "stream": "stdout",
       "text": [
        "\n",
        "Processing /Users/uri/datasets/Segments/audio/Isophonics_08_-_Roll_Over_Beethoven.mp3 ..."
       ]
      },
      {
       "output_type": "stream",
       "stream": "stdout",
       "text": [
        "\n",
        "Processing /Users/uri/datasets/Segments/audio/Isophonics_08_-_Strawberry_Fields_Forever.mp3 ..."
       ]
      },
      {
       "output_type": "stream",
       "stream": "stdout",
       "text": [
        "\n",
        "Processing /Users/uri/datasets/Segments/audio/Isophonics_08_-_What_Goes_On.mp3 ..."
       ]
      },
      {
       "output_type": "stream",
       "stream": "stdout",
       "text": [
        "\n",
        "Processing /Users/uri/datasets/Segments/audio/Isophonics_08_-_Within_You_Without_You.mp3 ..."
       ]
      },
      {
       "output_type": "stream",
       "stream": "stdout",
       "text": [
        "\n",
        "Processing /Users/uri/datasets/Segments/audio/Isophonics_09 Crazy Little Thing Called Love.mp3 ..."
       ]
      },
      {
       "output_type": "stream",
       "stream": "stdout",
       "text": [
        "\n",
        "Processing /Users/uri/datasets/Segments/audio/Isophonics_09 Driven By You.mp3 ..."
       ]
      },
      {
       "output_type": "stream",
       "stream": "stdout",
       "text": [
        "\n",
        "Processing /Users/uri/datasets/Segments/audio/Isophonics_09 Who Wants To Live Forever.mp3 ..."
       ]
      },
      {
       "output_type": "stream",
       "stream": "stdout",
       "text": [
        "\n",
        "Processing /Users/uri/datasets/Segments/audio/Isophonics_09 Will You Love Me Tomorrow.mp3 ..."
       ]
      },
      {
       "output_type": "stream",
       "stream": "stdout",
       "text": [
        "\n",
        "Processing /Users/uri/datasets/Segments/audio/Isophonics_09_-_And_Your_Bird_Can_Sing.mp3 ..."
       ]
      },
      {
       "output_type": "stream",
       "stream": "stdout",
       "text": [
        "\n",
        "Processing /Users/uri/datasets/Segments/audio/Isophonics_09_-_Girl.mp3 ..."
       ]
      },
      {
       "output_type": "stream",
       "stream": "stdout",
       "text": [
        "\n",
        "Processing /Users/uri/datasets/Segments/audio/Isophonics_09_-_Hold_Me_Tight.mp3 ..."
       ]
      },
      {
       "output_type": "stream",
       "stream": "stdout",
       "text": [
        "\n",
        "Processing /Users/uri/datasets/Segments/audio/Isophonics_09_-_I'll_Cry_Instead.mp3 ..."
       ]
      },
      {
       "output_type": "stream",
       "stream": "stdout",
       "text": [
        "\n",
        "Processing /Users/uri/datasets/Segments/audio/Isophonics_09_-_It's_Only_Love.mp3 ..."
       ]
      },
      {
       "output_type": "stream",
       "stream": "stdout",
       "text": [
        "\n",
        "Processing /Users/uri/datasets/Segments/audio/Isophonics_09_-_Mr_Morgan.mp3 ..."
       ]
      },
      {
       "output_type": "stream",
       "stream": "stdout",
       "text": [
        "\n",
        "Processing /Users/uri/datasets/Segments/audio/Isophonics_09_-_One_After_909.mp3 ..."
       ]
      },
      {
       "output_type": "stream",
       "stream": "stdout",
       "text": [
        "\n",
        "Processing /Users/uri/datasets/Segments/audio/Isophonics_09_-_P._S._I_Love_You.mp3 ..."
       ]
      },
      {
       "output_type": "stream",
       "stream": "stdout",
       "text": [
        "\n",
        "Processing /Users/uri/datasets/Segments/audio/Isophonics_09_-_Penny_Lane.mp3 ..."
       ]
      },
      {
       "output_type": "stream",
       "stream": "stdout",
       "text": [
        "\n",
        "Processing /Users/uri/datasets/Segments/audio/Isophonics_09_-_When_I'm_Sixty-Four.mp3 ..."
       ]
      },
      {
       "output_type": "stream",
       "stream": "stdout",
       "text": [
        "\n",
        "Processing /Users/uri/datasets/Segments/audio/Isophonics_09_-_Words_of_Love.mp3 ..."
       ]
      },
      {
       "output_type": "stream",
       "stream": "stdout",
       "text": [
        "\n",
        "Processing /Users/uri/datasets/Segments/audio/Isophonics_09_-_You_Never_Give_Me_Your_Money.mp3 ..."
       ]
      },
      {
       "output_type": "stream",
       "stream": "stdout",
       "text": [
        "\n",
        "Processing /Users/uri/datasets/Segments/audio/Isophonics_1-01 I Want You Back.mp3 ..."
       ]
      },
      {
       "output_type": "stream",
       "stream": "stdout",
       "text": [
        "\n",
        "Processing /Users/uri/datasets/Segments/audio/Isophonics_1-02 ABC.mp3 ..."
       ]
      },
      {
       "output_type": "stream",
       "stream": "stdout",
       "text": [
        "\n",
        "Processing /Users/uri/datasets/Segments/audio/Isophonics_1-03 The Love You Save.mp3 ..."
       ]
      },
      {
       "output_type": "stream",
       "stream": "stdout",
       "text": [
        "\n",
        "Processing /Users/uri/datasets/Segments/audio/Isophonics_1-04 Got To Be There (Single Version).mp3 ..."
       ]
      },
      {
       "output_type": "stream",
       "stream": "stdout",
       "text": [
        "\n",
        "Processing /Users/uri/datasets/Segments/audio/Isophonics_1-05 Rockin' Robin.mp3 ..."
       ]
      },
      {
       "output_type": "stream",
       "stream": "stdout",
       "text": [
        "\n",
        "Processing /Users/uri/datasets/Segments/audio/Isophonics_1-06 Ben (Single Version).mp3 ..."
       ]
      },
      {
       "output_type": "stream",
       "stream": "stdout",
       "text": [
        "\n",
        "Processing /Users/uri/datasets/Segments/audio/Isophonics_1-07 Blame It On The Boogie.mp3 ..."
       ]
      },
      {
       "output_type": "stream",
       "stream": "stdout",
       "text": [
        "\n",
        "Processing /Users/uri/datasets/Segments/audio/Isophonics_1-08 Shake Your Body (Down To The Ground) (Single Edit).mp3 ..."
       ]
      },
      {
       "output_type": "stream",
       "stream": "stdout",
       "text": [
        "\n",
        "Processing /Users/uri/datasets/Segments/audio/Isophonics_1-09 Don't Stop 'Til You Get Enough (2003 Edit).mp3 ..."
       ]
      },
      {
       "output_type": "stream",
       "stream": "stdout",
       "text": [
        "\n",
        "Processing /Users/uri/datasets/Segments/audio/Isophonics_1-10 Off The Wall (Single Version).mp3 ..."
       ]
      },
      {
       "output_type": "stream",
       "stream": "stdout",
       "text": [
        "\n",
        "Processing /Users/uri/datasets/Segments/audio/Isophonics_1-11 Rock With You (Single Version).mp3 ..."
       ]
      },
      {
       "output_type": "stream",
       "stream": "stdout",
       "text": [
        "\n",
        "Processing /Users/uri/datasets/Segments/audio/Isophonics_1-12 She's Out Of My Life (Single Version).mp3 ..."
       ]
      },
      {
       "output_type": "stream",
       "stream": "stdout",
       "text": [
        "\n",
        "Processing /Users/uri/datasets/Segments/audio/Isophonics_1-13 Can You Feel It (Single Version).mp3 ..."
       ]
      },
      {
       "output_type": "stream",
       "stream": "stdout",
       "text": [
        "\n",
        "Processing /Users/uri/datasets/Segments/audio/Isophonics_1-14 The Girl Is Mine.mp3 ..."
       ]
      },
      {
       "output_type": "stream",
       "stream": "stdout",
       "text": [
        "\n",
        "Processing /Users/uri/datasets/Segments/audio/Isophonics_1-15 Billie Jean.mp3 ..."
       ]
      },
      {
       "output_type": "stream",
       "stream": "stdout",
       "text": [
        "\n",
        "Processing /Users/uri/datasets/Segments/audio/Isophonics_1-16 Beat It.mp3 ..."
       ]
      },
      {
       "output_type": "stream",
       "stream": "stdout",
       "text": [
        "\n",
        "Processing /Users/uri/datasets/Segments/audio/Isophonics_1-17 Wanna Be Startin' Somethin' (Single Version).mp3 ..."
       ]
      },
      {
       "output_type": "stream",
       "stream": "stdout",
       "text": [
        "\n",
        "Processing /Users/uri/datasets/Segments/audio/Isophonics_1-18 Human Nature.mp3 ..."
       ]
      },
      {
       "output_type": "stream",
       "stream": "stdout",
       "text": [
        "\n",
        "Processing /Users/uri/datasets/Segments/audio/Isophonics_1-19 P.Y.T. (Pretty Young Thing).mp3 ..."
       ]
      },
      {
       "output_type": "stream",
       "stream": "stdout",
       "text": [
        "\n",
        "Processing /Users/uri/datasets/Segments/audio/Isophonics_1-20 I Just Can't Stop Loving You.mp3 ..."
       ]
      },
      {
       "output_type": "stream",
       "stream": "stdout",
       "text": [
        "\n",
        "Processing /Users/uri/datasets/Segments/audio/Isophonics_1-21 Thriller (Single Version).mp3 ..."
       ]
      },
      {
       "output_type": "stream",
       "stream": "stdout",
       "text": [
        "\n",
        "Processing /Users/uri/datasets/Segments/audio/Isophonics_10 Headlong.mp3 ..."
       ]
      },
      {
       "output_type": "stream",
       "stream": "stdout",
       "text": [
        "\n",
        "Processing /Users/uri/datasets/Segments/audio/Isophonics_10 Living On My Own.mp3 ..."
       ]
      },
      {
       "output_type": "stream",
       "stream": "stdout",
       "text": [
        "\n",
        "Processing /Users/uri/datasets/Segments/audio/Isophonics_10 Smackwater Jack.mp3 ..."
       ]
      },
      {
       "output_type": "stream",
       "stream": "stdout",
       "text": [
        "\n",
        "Processing /Users/uri/datasets/Segments/audio/Isophonics_10 Somebody To Love.mp3 ..."
       ]
      },
      {
       "output_type": "stream",
       "stream": "stdout",
       "text": [
        "\n",
        "Processing /Users/uri/datasets/Segments/audio/Isophonics_10_-_Baby_It's_You.mp3 ..."
       ]
      },
      {
       "output_type": "stream",
       "stream": "stdout",
       "text": [
        "\n",
        "Processing /Users/uri/datasets/Segments/audio/Isophonics_10_-_Baby_You're_A_Rich_Man.mp3 ..."
       ]
      },
      {
       "output_type": "stream",
       "stream": "stdout",
       "text": [
        "\n",
        "Processing /Users/uri/datasets/Segments/audio/Isophonics_10_-_For_No_One.mp3 ..."
       ]
      },
      {
       "output_type": "stream",
       "stream": "stdout",
       "text": [
        "\n",
        "Processing /Users/uri/datasets/Segments/audio/Isophonics_10_-_Honey_Don't.mp3 ..."
       ]
      },
      {
       "output_type": "stream",
       "stream": "stdout",
       "text": [
        "\n",
        "Processing /Users/uri/datasets/Segments/audio/Isophonics_10_-_I'm_Looking_Through_You.mp3 ..."
       ]
      },
      {
       "output_type": "stream",
       "stream": "stdout",
       "text": [
        "\n",
        "Processing /Users/uri/datasets/Segments/audio/Isophonics_10_-_Liebesleid.mp3 ..."
       ]
      },
      {
       "output_type": "stream",
       "stream": "stdout",
       "text": [
        "\n",
        "Processing /Users/uri/datasets/Segments/audio/Isophonics_10_-_Lovely_Rita.mp3 ..."
       ]
      },
      {
       "output_type": "stream",
       "stream": "stdout",
       "text": [
        "\n",
        "Processing /Users/uri/datasets/Segments/audio/Isophonics_10_-_Sun_King.mp3 ..."
       ]
      },
      {
       "output_type": "stream",
       "stream": "stdout",
       "text": [
        "\n",
        "Processing /Users/uri/datasets/Segments/audio/Isophonics_10_-_The_Long_and_Winding_Road.mp3 ..."
       ]
      },
      {
       "output_type": "stream",
       "stream": "stdout",
       "text": [
        "\n",
        "Processing /Users/uri/datasets/Segments/audio/Isophonics_10_-_Things_We_Said_Today.mp3 ..."
       ]
      },
      {
       "output_type": "stream",
       "stream": "stdout",
       "text": [
        "\n",
        "Processing /Users/uri/datasets/Segments/audio/Isophonics_10_-_You_Like_Me_Too_Much.mp3 ..."
       ]
      },
      {
       "output_type": "stream",
       "stream": "stdout",
       "text": [
        "\n",
        "Processing /Users/uri/datasets/Segments/audio/Isophonics_10_-_You_Really_Got_A_Hold_On_Me.mp3 ..."
       ]
      },
      {
       "output_type": "stream",
       "stream": "stdout",
       "text": [
        "\n",
        "Processing /Users/uri/datasets/Segments/audio/Isophonics_11 Let Me Live.mp3 ..."
       ]
      },
      {
       "output_type": "stream",
       "stream": "stdout",
       "text": [
        "\n",
        "Processing /Users/uri/datasets/Segments/audio/Isophonics_11 Now I'm Here.mp3 ..."
       ]
      },
      {
       "output_type": "stream",
       "stream": "stdout",
       "text": [
        "\n",
        "Processing /Users/uri/datasets/Segments/audio/Isophonics_11 Tapestry.mp3 ..."
       ]
      },
      {
       "output_type": "stream",
       "stream": "stdout",
       "text": [
        "\n",
        "Processing /Users/uri/datasets/Segments/audio/Isophonics_11 The Miracle.mp3 ..."
       ]
      },
      {
       "output_type": "stream",
       "stream": "stdout",
       "text": [
        "\n",
        "Processing /Users/uri/datasets/Segments/audio/Isophonics_11_-_All_You_Need_Is_Love.mp3 ..."
       ]
      },
      {
       "output_type": "stream",
       "stream": "stdout",
       "text": [
        "\n",
        "Processing /Users/uri/datasets/Segments/audio/Isophonics_11_-_Do_You_Want_To_Know_A_Secret.mp3 ..."
       ]
      },
      {
       "output_type": "stream",
       "stream": "stdout",
       "text": [
        "\n",
        "Processing /Users/uri/datasets/Segments/audio/Isophonics_11_-_Doctor_Robert.mp3 ..."
       ]
      },
      {
       "output_type": "stream",
       "stream": "stdout",
       "text": [
        "\n",
        "Processing /Users/uri/datasets/Segments/audio/Isophonics_11_-_Every_Little_Thing.mp3 ..."
       ]
      },
      {
       "output_type": "stream",
       "stream": "stdout",
       "text": [
        "\n",
        "Processing /Users/uri/datasets/Segments/audio/Isophonics_11_-_For_You_Blue.mp3 ..."
       ]
      },
      {
       "output_type": "stream",
       "stream": "stdout",
       "text": [
        "\n",
        "Processing /Users/uri/datasets/Segments/audio/Isophonics_11_-_Good_Morning_Good_Morning.mp3 ..."
       ]
      },
      {
       "output_type": "stream",
       "stream": "stdout",
       "text": [
        "\n",
        "Processing /Users/uri/datasets/Segments/audio/Isophonics_11_-_I_Wanna_Be_Your_Man.mp3 ..."
       ]
      },
      {
       "output_type": "stream",
       "stream": "stdout",
       "text": [
        "\n",
        "Processing /Users/uri/datasets/Segments/audio/Isophonics_11_-_Ich_Kann_Heute_Nicht.mp3 ..."
       ]
      },
      {
       "output_type": "stream",
       "stream": "stdout",
       "text": [
        "\n",
        "Processing /Users/uri/datasets/Segments/audio/Isophonics_11_-_In_My_Life.mp3 ..."
       ]
      },
      {
       "output_type": "stream",
       "stream": "stdout",
       "text": [
        "\n",
        "Processing /Users/uri/datasets/Segments/audio/Isophonics_11_-_Mean_Mr_Mustard.mp3 ..."
       ]
      },
      {
       "output_type": "stream",
       "stream": "stdout",
       "text": [
        "\n",
        "Processing /Users/uri/datasets/Segments/audio/Isophonics_11_-_Tell_Me_What_You_See.mp3 ..."
       ]
      },
      {
       "output_type": "stream",
       "stream": "stdout",
       "text": [
        "\n",
        "Processing /Users/uri/datasets/Segments/audio/Isophonics_11_-_When_I_Get_Home.mp3 ..."
       ]
      },
      {
       "output_type": "stream",
       "stream": "stdout",
       "text": [
        "\n",
        "Processing /Users/uri/datasets/Segments/audio/Isophonics_12 Feel Like A Natural Woman.mp3 ..."
       ]
      },
      {
       "output_type": "stream",
       "stream": "stdout",
       "text": [
        "\n",
        "Processing /Users/uri/datasets/Segments/audio/Isophonics_12 Good Old-Fashioned Lover Boy.mp3 ..."
       ]
      },
      {
       "output_type": "stream",
       "stream": "stdout",
       "text": [
        "\n",
        "Processing /Users/uri/datasets/Segments/audio/Isophonics_12 I'm Going Slightly Mad.mp3 ..."
       ]
      },
      {
       "output_type": "stream",
       "stream": "stdout",
       "text": [
        "\n",
        "Processing /Users/uri/datasets/Segments/audio/Isophonics_12 The Great Pretender.mp3 ..."
       ]
      },
      {
       "output_type": "stream",
       "stream": "stdout",
       "text": [
        "\n",
        "Processing /Users/uri/datasets/Segments/audio/Isophonics_12_-_A_Taste_Of_Honey.mp3 ..."
       ]
      },
      {
       "output_type": "stream",
       "stream": "stdout",
       "text": [
        "\n",
        "Processing /Users/uri/datasets/Segments/audio/Isophonics_12_-_Devil_In_Her_Heart.mp3 ..."
       ]
      },
      {
       "output_type": "stream",
       "stream": "stdout",
       "text": [
        "\n",
        "Processing /Users/uri/datasets/Segments/audio/Isophonics_12_-_Get_Back.mp3 ..."
       ]
      },
      {
       "output_type": "stream",
       "stream": "stdout",
       "text": [
        "\n",
        "Processing /Users/uri/datasets/Segments/audio/Isophonics_12_-_I've_Just_Seen_a_Face.mp3 ..."
       ]
      },
      {
       "output_type": "stream",
       "stream": "stdout",
       "text": [
        "\n",
        "Processing /Users/uri/datasets/Segments/audio/Isophonics_12_-_I_Don't_Want_to_Spoil_the_Party.mp3 ..."
       ]
      },
      {
       "output_type": "stream",
       "stream": "stdout",
       "text": [
        "\n",
        "Processing /Users/uri/datasets/Segments/audio/Isophonics_12_-_I_Want_To_Tell_You.mp3 ..."
       ]
      },
      {
       "output_type": "stream",
       "stream": "stdout",
       "text": [
        "\n",
        "Processing /Users/uri/datasets/Segments/audio/Isophonics_12_-_Jakob_Und_Marie.mp3 ..."
       ]
      },
      {
       "output_type": "stream",
       "stream": "stdout",
       "text": [
        "\n",
        "Processing /Users/uri/datasets/Segments/audio/Isophonics_12_-_Polythene_Pam.mp3 ..."
       ]
      },
      {
       "output_type": "stream",
       "stream": "stdout",
       "text": [
        "\n",
        "Processing /Users/uri/datasets/Segments/audio/Isophonics_12_-_Sgt._Pepper's_Lonely_Hearts_Club_Band_(Reprise).mp3 ..."
       ]
      },
      {
       "output_type": "stream",
       "stream": "stdout",
       "text": [
        "\n",
        "Processing /Users/uri/datasets/Segments/audio/Isophonics_12_-_Wait.mp3 ..."
       ]
      },
      {
       "output_type": "stream",
       "stream": "stdout",
       "text": [
        "\n",
        "Processing /Users/uri/datasets/Segments/audio/Isophonics_12_-_You_Can't_Do_That.mp3 ..."
       ]
      },
      {
       "output_type": "stream",
       "stream": "stdout",
       "text": [
        "\n",
        "Processing /Users/uri/datasets/Segments/audio/Isophonics_13 Out In The Cold.mp3 ..."
       ]
      },
      {
       "output_type": "stream",
       "stream": "stdout",
       "text": [
        "\n",
        "Processing /Users/uri/datasets/Segments/audio/Isophonics_13 Play The Game.mp3 ..."
       ]
      },
      {
       "output_type": "stream",
       "stream": "stdout",
       "text": [
        "\n",
        "Processing /Users/uri/datasets/Segments/audio/Isophonics_13 Princes Of The Universe.mp3 ..."
       ]
      },
      {
       "output_type": "stream",
       "stream": "stdout",
       "text": [
        "\n",
        "Processing /Users/uri/datasets/Segments/audio/Isophonics_13 The Invisible Man.mp3 ..."
       ]
      },
      {
       "output_type": "stream",
       "stream": "stdout",
       "text": [
        "\n",
        "Processing /Users/uri/datasets/Segments/audio/Isophonics_13_-_A_Day_In_The_Life.mp3 ..."
       ]
      },
      {
       "output_type": "stream",
       "stream": "stdout",
       "text": [
        "\n",
        "Processing /Users/uri/datasets/Segments/audio/Isophonics_13_-_Got_To_Get_You_Into_My_Life.mp3 ..."
       ]
      },
      {
       "output_type": "stream",
       "stream": "stdout",
       "text": [
        "\n",
        "Processing /Users/uri/datasets/Segments/audio/Isophonics_13_-_I'll_Be_Back.mp3 ..."
       ]
      },
      {
       "output_type": "stream",
       "stream": "stdout",
       "text": [
        "\n",
        "Processing /Users/uri/datasets/Segments/audio/Isophonics_13_-_If_I_Needed_Someone.mp3 ..."
       ]
      },
      {
       "output_type": "stream",
       "stream": "stdout",
       "text": [
        "\n",
        "Processing /Users/uri/datasets/Segments/audio/Isophonics_13_-_Not_A_Second_Time.mp3 ..."
       ]
      },
      {
       "output_type": "stream",
       "stream": "stdout",
       "text": [
        "\n",
        "Processing /Users/uri/datasets/Segments/audio/Isophonics_13_-_Paparazzi.mp3 ..."
       ]
      },
      {
       "output_type": "stream",
       "stream": "stdout",
       "text": [
        "\n",
        "Processing /Users/uri/datasets/Segments/audio/Isophonics_13_-_She_Came_In_Through_The_Bathroom_Window.mp3 ..."
       ]
      },
      {
       "output_type": "stream",
       "stream": "stdout",
       "text": [
        "\n",
        "Processing /Users/uri/datasets/Segments/audio/Isophonics_13_-_There's_A_Place.mp3 ..."
       ]
      },
      {
       "output_type": "stream",
       "stream": "stdout",
       "text": [
        "\n",
        "Processing /Users/uri/datasets/Segments/audio/Isophonics_13_-_What_You're_Doing.mp3 ..."
       ]
      },
      {
       "output_type": "stream",
       "stream": "stdout",
       "text": [
        "\n",
        "Processing /Users/uri/datasets/Segments/audio/Isophonics_13_-_Yesterday.mp3 ..."
       ]
      },
      {
       "output_type": "stream",
       "stream": "stdout",
       "text": [
        "\n",
        "Processing /Users/uri/datasets/Segments/audio/Isophonics_14 Another One Bites The Dust.mp3 ..."
       ]
      },
      {
       "output_type": "stream",
       "stream": "stdout",
       "text": [
        "\n",
        "Processing /Users/uri/datasets/Segments/audio/Isophonics_14 Flash.mp3 ..."
       ]
      },
      {
       "output_type": "stream",
       "stream": "stdout",
       "text": [
        "\n",
        "Processing /Users/uri/datasets/Segments/audio/Isophonics_14 Hammer To Fall.mp3 ..."
       ]
      },
      {
       "output_type": "stream",
       "stream": "stdout",
       "text": [
        "\n",
        "Processing /Users/uri/datasets/Segments/audio/Isophonics_14 Smackwater Jack [Live].mp3 ..."
       ]
      },
      {
       "output_type": "stream",
       "stream": "stdout",
       "text": [
        "\n",
        "Processing /Users/uri/datasets/Segments/audio/Isophonics_14_-_Dizzy_Miss_Lizzy.mp3 ..."
       ]
      },
      {
       "output_type": "stream",
       "stream": "stdout",
       "text": [
        "\n",
        "Processing /Users/uri/datasets/Segments/audio/Isophonics_14_-_Everybody's_Trying_to_Be_My_Baby.mp3 ..."
       ]
      },
      {
       "output_type": "stream",
       "stream": "stdout",
       "text": [
        "\n",
        "Processing /Users/uri/datasets/Segments/audio/Isophonics_14_-_Golden_Slumbers.mp3 ..."
       ]
      },
      {
       "output_type": "stream",
       "stream": "stdout",
       "text": [
        "\n",
        "Processing /Users/uri/datasets/Segments/audio/Isophonics_14_-_Money.mp3 ..."
       ]
      },
      {
       "output_type": "stream",
       "stream": "stdout",
       "text": [
        "\n",
        "Processing /Users/uri/datasets/Segments/audio/Isophonics_14_-_Run_For_Your_Life.mp3 ..."
       ]
      },
      {
       "output_type": "stream",
       "stream": "stdout",
       "text": [
        "\n",
        "Processing /Users/uri/datasets/Segments/audio/Isophonics_14_-_Santa_Donna_Lucia_Mobile.mp3 ..."
       ]
      },
      {
       "output_type": "stream",
       "stream": "stdout",
       "text": [
        "\n",
        "Processing /Users/uri/datasets/Segments/audio/Isophonics_14_-_Tomorrow_Never_Knows.mp3 ..."
       ]
      },
      {
       "output_type": "stream",
       "stream": "stdout",
       "text": [
        "\n",
        "Processing /Users/uri/datasets/Segments/audio/Isophonics_14_-_Twist_And_Shout.mp3 ..."
       ]
      },
      {
       "output_type": "stream",
       "stream": "stdout",
       "text": [
        "\n",
        "Processing /Users/uri/datasets/Segments/audio/Isophonics_15 Friends Will Be Friends.mp3 ..."
       ]
      },
      {
       "output_type": "stream",
       "stream": "stdout",
       "text": [
        "\n",
        "Processing /Users/uri/datasets/Segments/audio/Isophonics_15 No-One But You.mp3 ..."
       ]
      },
      {
       "output_type": "stream",
       "stream": "stdout",
       "text": [
        "\n",
        "Processing /Users/uri/datasets/Segments/audio/Isophonics_15 Seven Seas Of Rhye.mp3 ..."
       ]
      },
      {
       "output_type": "stream",
       "stream": "stdout",
       "text": [
        "\n",
        "Processing /Users/uri/datasets/Segments/audio/Isophonics_15_-_Carry_That_Weight.mp3 ..."
       ]
      },
      {
       "output_type": "stream",
       "stream": "stdout",
       "text": [
        "\n",
        "Processing /Users/uri/datasets/Segments/audio/Isophonics_15_-_Es_Wird_Alles_Wieder_Gut,_Herr_Professor.mp3 ..."
       ]
      },
      {
       "output_type": "stream",
       "stream": "stdout",
       "text": [
        "\n",
        "Processing /Users/uri/datasets/Segments/audio/Isophonics_16 The Show Must Go On.mp3 ..."
       ]
      },
      {
       "output_type": "stream",
       "stream": "stdout",
       "text": [
        "\n",
        "Processing /Users/uri/datasets/Segments/audio/Isophonics_16 These Are The Days Of Our Lives.mp3 ..."
       ]
      },
      {
       "output_type": "stream",
       "stream": "stdout",
       "text": [
        "\n",
        "Processing /Users/uri/datasets/Segments/audio/Isophonics_16 We Will Rock You.mp3 ..."
       ]
      },
      {
       "output_type": "stream",
       "stream": "stdout",
       "text": [
        "\n",
        "Processing /Users/uri/datasets/Segments/audio/Isophonics_16_-_The_End.mp3 ..."
       ]
      },
      {
       "output_type": "stream",
       "stream": "stdout",
       "text": [
        "\n",
        "Processing /Users/uri/datasets/Segments/audio/Isophonics_16_-_Zu_Leise_Fu\u0308r_Mich.mp3 ..."
       ]
      },
      {
       "output_type": "stream",
       "stream": "stdout",
       "text": [
        "\n",
        "Processing /Users/uri/datasets/Segments/audio/Isophonics_17 One Vision.mp3 ..."
       ]
      },
      {
       "output_type": "stream",
       "stream": "stdout",
       "text": [
        "\n",
        "Processing /Users/uri/datasets/Segments/audio/Isophonics_17 Thank God It's Christmas.mp3 ..."
       ]
      },
      {
       "output_type": "stream",
       "stream": "stdout",
       "text": [
        "\n",
        "Processing /Users/uri/datasets/Segments/audio/Isophonics_17 We Are The Champions.mp3 ..."
       ]
      },
      {
       "output_type": "stream",
       "stream": "stdout",
       "text": [
        "\n",
        "Processing /Users/uri/datasets/Segments/audio/Isophonics_17_-_Duell.mp3 ..."
       ]
      },
      {
       "output_type": "stream",
       "stream": "stdout",
       "text": [
        "\n",
        "Processing /Users/uri/datasets/Segments/audio/Isophonics_17_-_Her_Majesty.mp3 ..."
       ]
      },
      {
       "output_type": "stream",
       "stream": "stdout",
       "text": [
        "\n",
        "Processing /Users/uri/datasets/Segments/audio/Isophonics_18_-_Zuhause.mp3 ..."
       ]
      },
      {
       "output_type": "stream",
       "stream": "stdout",
       "text": [
        "\n",
        "Processing /Users/uri/datasets/Segments/audio/Isophonics_2-01 Bad.mp3 ..."
       ]
      },
      {
       "output_type": "stream",
       "stream": "stdout",
       "text": [
        "\n",
        "Processing /Users/uri/datasets/Segments/audio/Isophonics_2-02 The Way You Make Me Feel (Single Version).mp3 ..."
       ]
      },
      {
       "output_type": "stream",
       "stream": "stdout",
       "text": [
        "\n",
        "Processing /Users/uri/datasets/Segments/audio/Isophonics_2-03 Man In The Mirror.mp3 ..."
       ]
      },
      {
       "output_type": "stream",
       "stream": "stdout",
       "text": [
        "\n",
        "Processing /Users/uri/datasets/Segments/audio/Isophonics_2-04 Dirty Diana.mp3 ..."
       ]
      },
      {
       "output_type": "stream",
       "stream": "stdout",
       "text": [
        "\n",
        "Processing /Users/uri/datasets/Segments/audio/Isophonics_2-05 Another Part Of Me (Single Version).mp3 ..."
       ]
      },
      {
       "output_type": "stream",
       "stream": "stdout",
       "text": [
        "\n",
        "Processing /Users/uri/datasets/Segments/audio/Isophonics_2-06 Smooth Criminal.mp3 ..."
       ]
      },
      {
       "output_type": "stream",
       "stream": "stdout",
       "text": [
        "\n",
        "Processing /Users/uri/datasets/Segments/audio/Isophonics_2-07 Leave Me Alone.mp3 ..."
       ]
      },
      {
       "output_type": "stream",
       "stream": "stdout",
       "text": [
        "\n",
        "Processing /Users/uri/datasets/Segments/audio/Isophonics_2-08 Black Or White (Single Version).mp3 ..."
       ]
      },
      {
       "output_type": "stream",
       "stream": "stdout",
       "text": [
        "\n",
        "Processing /Users/uri/datasets/Segments/audio/Isophonics_2-09 Remember The Time.mp3 ..."
       ]
      },
      {
       "output_type": "stream",
       "stream": "stdout",
       "text": [
        "\n",
        "Processing /Users/uri/datasets/Segments/audio/Isophonics_2-10 In The Closet (Single Version).mp3 ..."
       ]
      },
      {
       "output_type": "stream",
       "stream": "stdout",
       "text": [
        "\n",
        "Processing /Users/uri/datasets/Segments/audio/Isophonics_2-11 Who Is It (7_ Edit).mp3 ..."
       ]
      },
      {
       "output_type": "stream",
       "stream": "stdout",
       "text": [
        "\n",
        "Processing /Users/uri/datasets/Segments/audio/Isophonics_2-12 Heal The World.mp3 ..."
       ]
      },
      {
       "output_type": "stream",
       "stream": "stdout",
       "text": [
        "\n",
        "Processing /Users/uri/datasets/Segments/audio/Isophonics_2-13 Will You Be There (Single Version).mp3 ..."
       ]
      },
      {
       "output_type": "stream",
       "stream": "stdout",
       "text": [
        "\n",
        "Processing /Users/uri/datasets/Segments/audio/Isophonics_2-14 You Are Not Alone (Single Version).mp3 ..."
       ]
      },
      {
       "output_type": "stream",
       "stream": "stdout",
       "text": [
        "\n",
        "Processing /Users/uri/datasets/Segments/audio/Isophonics_2-15 Earth Song (Radio Edit).mp3 ..."
       ]
      },
      {
       "output_type": "stream",
       "stream": "stdout",
       "text": [
        "\n",
        "Processing /Users/uri/datasets/Segments/audio/Isophonics_2-16 They Don't Care About Us.mp3 ..."
       ]
      },
      {
       "output_type": "stream",
       "stream": "stdout",
       "text": [
        "\n",
        "Processing /Users/uri/datasets/Segments/audio/Isophonics_2-17 You Rock My World.mp3 ..."
       ]
      },
      {
       "output_type": "stream",
       "stream": "stdout",
       "text": [
        "\n",
        "Processing /Users/uri/datasets/Segments/audio/Isophonics_CD1_-_01_-_Back_in_the_USSR.mp3 ..."
       ]
      },
      {
       "output_type": "stream",
       "stream": "stdout",
       "text": [
        "\n",
        "Processing /Users/uri/datasets/Segments/audio/Isophonics_CD1_-_02_-_Dear_Prudence.mp3 ..."
       ]
      },
      {
       "output_type": "stream",
       "stream": "stdout",
       "text": [
        "\n",
        "Processing /Users/uri/datasets/Segments/audio/Isophonics_CD1_-_03_-_Glass_Onion.mp3 ..."
       ]
      },
      {
       "output_type": "stream",
       "stream": "stdout",
       "text": [
        "\n",
        "Processing /Users/uri/datasets/Segments/audio/Isophonics_CD1_-_04_-_Ob-La-Di,_Ob-La-Da.mp3 ..."
       ]
      },
      {
       "output_type": "stream",
       "stream": "stdout",
       "text": [
        "\n",
        "Processing /Users/uri/datasets/Segments/audio/Isophonics_CD1_-_05_-_Wild_Honey_Pie.mp3 ..."
       ]
      },
      {
       "output_type": "stream",
       "stream": "stdout",
       "text": [
        "\n",
        "Processing /Users/uri/datasets/Segments/audio/Isophonics_CD1_-_06_-_The_Continuing_Story_of_Bungalow_Bill.mp3 ..."
       ]
      },
      {
       "output_type": "stream",
       "stream": "stdout",
       "text": [
        "\n",
        "Processing /Users/uri/datasets/Segments/audio/Isophonics_CD1_-_07_-_While_My_Guitar_Gently_Weeps.mp3 ..."
       ]
      },
      {
       "output_type": "stream",
       "stream": "stdout",
       "text": [
        "\n",
        "Processing /Users/uri/datasets/Segments/audio/Isophonics_CD1_-_08_-_Happiness_is_a_Warm_Gun.mp3 ..."
       ]
      },
      {
       "output_type": "stream",
       "stream": "stdout",
       "text": [
        "\n",
        "Processing /Users/uri/datasets/Segments/audio/Isophonics_CD1_-_09_-_Martha_My_Dear.mp3 ..."
       ]
      },
      {
       "output_type": "stream",
       "stream": "stdout",
       "text": [
        "\n",
        "Processing /Users/uri/datasets/Segments/audio/Isophonics_CD1_-_10_-_I'm_So_Tired.mp3 ..."
       ]
      },
      {
       "output_type": "stream",
       "stream": "stdout",
       "text": [
        "\n",
        "Processing /Users/uri/datasets/Segments/audio/Isophonics_CD1_-_11_-_Black_Bird.mp3 ..."
       ]
      },
      {
       "output_type": "stream",
       "stream": "stdout",
       "text": [
        "\n",
        "Processing /Users/uri/datasets/Segments/audio/Isophonics_CD1_-_12_-_Piggies.mp3 ..."
       ]
      },
      {
       "output_type": "stream",
       "stream": "stdout",
       "text": [
        "\n",
        "Processing /Users/uri/datasets/Segments/audio/Isophonics_CD1_-_13_-_Rocky_Raccoon.mp3 ..."
       ]
      },
      {
       "output_type": "stream",
       "stream": "stdout",
       "text": [
        "\n",
        "Processing /Users/uri/datasets/Segments/audio/Isophonics_CD1_-_14_-_Don't_Pass_Me_By.mp3 ..."
       ]
      },
      {
       "output_type": "stream",
       "stream": "stdout",
       "text": [
        "\n",
        "Processing /Users/uri/datasets/Segments/audio/Isophonics_CD1_-_15_-_Why_Don't_We_Do_It_In_The_Road.mp3 ..."
       ]
      },
      {
       "output_type": "stream",
       "stream": "stdout",
       "text": [
        "\n",
        "Processing /Users/uri/datasets/Segments/audio/Isophonics_CD1_-_16_-_I_Will.mp3 ..."
       ]
      },
      {
       "output_type": "stream",
       "stream": "stdout",
       "text": [
        "\n",
        "Processing /Users/uri/datasets/Segments/audio/Isophonics_CD1_-_17_-_Julia.mp3 ..."
       ]
      },
      {
       "output_type": "stream",
       "stream": "stdout",
       "text": [
        "\n",
        "Processing /Users/uri/datasets/Segments/audio/Isophonics_CD2_-_01_-_Birthday.mp3 ..."
       ]
      },
      {
       "output_type": "stream",
       "stream": "stdout",
       "text": [
        "\n",
        "Processing /Users/uri/datasets/Segments/audio/Isophonics_CD2_-_02_-_Yer_Blues.mp3 ..."
       ]
      },
      {
       "output_type": "stream",
       "stream": "stdout",
       "text": [
        "\n",
        "Processing /Users/uri/datasets/Segments/audio/Isophonics_CD2_-_03_-_Mother_Nature's_Son.mp3 ..."
       ]
      },
      {
       "output_type": "stream",
       "stream": "stdout",
       "text": [
        "\n",
        "Processing /Users/uri/datasets/Segments/audio/Isophonics_CD2_-_04_-_Everybody's_Got_Something_To_Hide_Except_Me_and_My_Monkey.mp3 ..."
       ]
      },
      {
       "output_type": "stream",
       "stream": "stdout",
       "text": [
        "\n",
        "Processing /Users/uri/datasets/Segments/audio/Isophonics_CD2_-_05_-_Sexy_Sadie.mp3 ..."
       ]
      },
      {
       "output_type": "stream",
       "stream": "stdout",
       "text": [
        "\n",
        "Processing /Users/uri/datasets/Segments/audio/Isophonics_CD2_-_06_-_Helter_Skelter.mp3 ..."
       ]
      },
      {
       "output_type": "stream",
       "stream": "stdout",
       "text": [
        "\n",
        "Processing /Users/uri/datasets/Segments/audio/Isophonics_CD2_-_07_-_Long_Long_Long.mp3 ..."
       ]
      },
      {
       "output_type": "stream",
       "stream": "stdout",
       "text": [
        "\n",
        "Processing /Users/uri/datasets/Segments/audio/Isophonics_CD2_-_08_-_Revolution_1.mp3 ..."
       ]
      },
      {
       "output_type": "stream",
       "stream": "stdout",
       "text": [
        "\n",
        "Processing /Users/uri/datasets/Segments/audio/Isophonics_CD2_-_09_-_Honey_Pie.mp3 ..."
       ]
      },
      {
       "output_type": "stream",
       "stream": "stdout",
       "text": [
        "\n",
        "Processing /Users/uri/datasets/Segments/audio/Isophonics_CD2_-_10_-_Savoy_Truffle.mp3 ..."
       ]
      },
      {
       "output_type": "stream",
       "stream": "stdout",
       "text": [
        "\n",
        "Processing /Users/uri/datasets/Segments/audio/Isophonics_CD2_-_11_-_Cry_Baby_Cry.mp3 ..."
       ]
      },
      {
       "output_type": "stream",
       "stream": "stdout",
       "text": [
        "\n",
        "Processing /Users/uri/datasets/Segments/audio/Isophonics_CD2_-_12_-_Revolution_9.mp3 ..."
       ]
      },
      {
       "output_type": "stream",
       "stream": "stdout",
       "text": [
        "\n",
        "Processing /Users/uri/datasets/Segments/audio/Isophonics_CD2_-_13_-_Good_Night.mp3 ..."
       ]
      },
      {
       "output_type": "stream",
       "stream": "stdout",
       "text": [
        "\n"
       ]
      }
     ],
     "prompt_number": 17
    },
    {
     "cell_type": "code",
     "collapsed": false,
     "input": [
      "# Fix first and last boundaries and first beats\n",
      "import jams\n",
      "import json\n",
      "import glob\n",
      "import os\n",
      "from operator import itemgetter, attrgetter\n",
      "\n",
      "jam_files = glob.glob(\"/Users/uri/datasets/Segments/annotations/*.jams\")\n",
      "for jam_file in jam_files:\n",
      "    jam = jams.load(jam_file)\n",
      "    print \"processing \", jam_file\n",
      "    \n",
      "    # Fix Beats\n",
      "    if jam.beats != []:\n",
      "        if jam.beats[0].data != [] and \\\n",
      "                jam.beats[0].data[0].time.value != 0:\n",
      "            beat = jam.beats[0].create_datapoint()\n",
      "            beat.time.value = 0\n",
      "            beat.time.confidence = 1.0\n",
      "            beat.label.value = -1\n",
      "            beat.label.confidence = 1.0\n",
      "        jam.beats[0].data = sorted(jam.beats[0].data, key=attrgetter(\"time.value\"))\n",
      "        \n",
      "    # Fix Sections\n",
      "    for annotation in jam.sections:\n",
      "        curr_context = \"\"\n",
      "        annotation.data = sorted(annotation.data, key=attrgetter(\"label.context\", \"start.value\"))\n",
      "        for data in annotation.data:\n",
      "            if data.label.context != curr_context:\n",
      "                if data.start.value != 0:\n",
      "                    section = annotation.create_datapoint()\n",
      "                    section.start.value = 0\n",
      "                    section.start.confidence = 1.0\n",
      "                    section.end.value = data.start.value\n",
      "                    section.end.confidence = 1.0\n",
      "                    section.label.value = \"silence\"\n",
      "                    section.label.confidence = 1.0\n",
      "                    section.label.context = data.label.context\n",
      "                curr_context = data.label.context\n",
      "                break\n",
      "        curr_context = \"\"\n",
      "        annotation.data = sorted(annotation.data, key=attrgetter(\"label.context\", \"start.value\"))\n",
      "        for data in annotation.data[::-1]:\n",
      "            if data.label.context != curr_context:\n",
      "                if data.end.value < jam.metadata.duration:\n",
      "                    section = annotation.create_datapoint()\n",
      "                    section.start.value = data.end.value\n",
      "                    section.start.confidence = 1.0\n",
      "                    section.end.value = jam.metadata.duration\n",
      "                    section.end.confidence = 1.0\n",
      "                    section.label.value = \"silence\"\n",
      "                    section.label.confidence = 1.0\n",
      "                    section.label.context = data.label.context\n",
      "                curr_context = data.label.context\n",
      "                break\n",
      "    f = open(jam_file, \"w\")\n",
      "    json.dump(jam, f, indent=2)\n",
      "    f.close()\n",
      "            \n",
      "print k"
     ],
     "language": "python",
     "metadata": {},
     "outputs": [
      {
       "output_type": "stream",
       "stream": "stdout",
       "text": [
        "1073\n"
       ]
      }
     ],
     "prompt_number": 49
    },
    {
     "cell_type": "code",
     "collapsed": false,
     "input": [
      "import mir_eval\n",
      "times1, labels1 = mir_eval.input_output.load_annotation(\"../SALAMI_956.lab\")\n",
      "times2, labels2 = mir_eval.input_output.load_annotation(\"/Users/uri/Downloads/956_-_olda.lab\")\n",
      "\n",
      "p3, r3, f3 = mir_eval.segment.boundary_detection(times1, times2, window=3)\n",
      "p05, r05, f05 = mir_eval.segment.boundary_detection(times1, times2, window=0.5)\n",
      "\n",
      "print f05, p05, r05\n",
      "print f3, p3, r3\n",
      "\n",
      "times1, labels1 = mir_eval.input_output.load_annotation(\"../ComeTogether.lab\")\n",
      "times2, labels2 = mir_eval.input_output.load_annotation(\"/Users/uri/Downloads/01_-_Come_Together_-_olda.lab\")\n",
      "\n",
      "p3, r3, f3 = mir_eval.segment.boundary_detection(times1, times2, window=3)\n",
      "p05, r05, f05 = mir_eval.segment.boundary_detection(times1, times2, window=0.5)\n",
      "\n",
      "print f05, p05, r05\n",
      "print f3, p3, r3"
     ],
     "language": "python",
     "metadata": {},
     "outputs": [
      {
       "output_type": "stream",
       "stream": "stdout",
       "text": [
        "0.32 0.285714285714 0.363636363636\n",
        "0.48 0.428571428571 0.545454545455\n",
        "0.628571428571 0.6875 0.578947368421\n",
        "0.8 0.875 0.736842105263\n"
       ]
      }
     ],
     "prompt_number": 56
    },
    {
     "cell_type": "code",
     "collapsed": false,
     "input": [
      "# Check that old dataset is valid\n",
      "import difflib\n",
      "import glob\n",
      "import os\n",
      "\n",
      "old_jams = glob.glob(\"/Users/uri/datasets/Segments/references/Isophonics_*.jams\")\n",
      "new_jams = glob.glob(\"/Users/uri/NYU/Dissertation/msaf/ds_parsers/outJAMS/*.jams\")\n",
      "\n",
      "for old_jam, new_jam in zip(old_jams, new_jams):\n",
      "    with open(old_jam, \"r\") as f:\n",
      "        oj = f.readlines()\n",
      "    with open(new_jam, \"r\") as f:\n",
      "        nj = f.readlines()\n",
      "#     print os.path.basename(old_jam), os.path.basename(new_jam)\n",
      "    for line in difflib.unified_diff(oj, nj, fromfile=\"old\", tofile=\"new\", n=0):\n",
      "        print line"
     ],
     "language": "python",
     "metadata": {},
     "outputs": [],
     "prompt_number": 7
    }
   ],
   "metadata": {}
  }
 ]
}